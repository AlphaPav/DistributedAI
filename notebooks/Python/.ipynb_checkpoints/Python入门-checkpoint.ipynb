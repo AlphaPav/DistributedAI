{
 "cells": [
  {
   "cell_type": "markdown",
   "metadata": {},
   "source": [
    "# Python入门\n",
    "## 概念\n",
    "### 定位\n",
    "一种高级的，动态类型的多范型编程语言，写法近似伪代码，面向对象。哲学：“优雅”、“明确”、“简单”，简单优雅，尽量写容易看明白的代码，尽量写少的代码。\n",
    "### 缺点\n",
    "1. 运行速度慢，和C程序相比非常慢。Python为解释型语言\n",
    "2. 源代码不能加密\n",
    "## 安装\n",
    "安装Python 3.6，mac默认安转Python2.7，可使用Homebrew，在命令行`homebrew install python3`，进行安装\n",
    "## 第一个Python程序\n",
    "使用sublime3开发，新建文件hello.py\n",
    "\n",
    "> 输入"
   ]
  },
  {
   "cell_type": "code",
   "execution_count": 3,
   "metadata": {},
   "outputs": [
    {
     "name": "stdout",
     "output_type": "stream",
     "text": [
      "hello, world\n"
     ]
    }
   ],
   "source": [
    "print('hello, world')"
   ]
  },
  {
   "cell_type": "markdown",
   "metadata": {},
   "source": [
    "   > 输出"
   ]
  },
  {
   "cell_type": "code",
   "execution_count": null,
   "metadata": {
    "scrolled": true
   },
   "outputs": [],
   "source": [
    "name = input()\n",
    "print(name)"
   ]
  },
  {
   "cell_type": "markdown",
   "metadata": {},
   "source": [
    "**运行**  \n",
    "cd到当前目录下， 使用 `python3 filename.py`"
   ]
  },
  {
   "cell_type": "markdown",
   "metadata": {},
   "source": [
    "## 基础\n",
    "### 数据类型和变量\n",
    "- 整数: 程序中的表示方法和数学上的写法一致,例如:1,100,-8080,0\n",
    "- 浮点数: `1.23e9`\n",
    "- 字符串: 以单引号'或双引号\"括起来的任意文本 `'I\\'m \\\"OK\\\"!'`\n",
    "- 布尔值: True、False,注意大小写，使用 `and`, `not`和`or`,代表与或非,如：`True or True`,`True and False`,`not True`\n",
    "- 空值: 特殊的值, 使用`None`表示\n",
    "> 变量\n",
    "\n",
    "1. 变量在程序中就是用一个变量名表示，同一个变量可以反复赋值，而且可以是不同类型的变量。\n",
    "2. 这种变量本身类型不固定的语言称之为动态语言，与之对应的是静态语言。静态语言在定义变量时必须指定变量类型，如果赋值的时候类型不匹配，就会报错\n",
    "3. 最后，理解变量在计算机内存中的表示也非常重要。"
   ]
  },
  {
   "cell_type": "code",
   "execution_count": 19,
   "metadata": {},
   "outputs": [],
   "source": [
    "a = \"abc\""
   ]
  },
  {
   "cell_type": "markdown",
   "metadata": {},
   "source": [
    "Python解释器干了两件事情：\n",
    "- 在内存中创建了一个'ABC'的字符串；\n",
    "- 在内存中创建了一个名为a的变量，并把它指向'ABC'。即python中变量名可以理解为一个指针。"
   ]
  },
  {
   "cell_type": "code",
   "execution_count": 3,
   "metadata": {},
   "outputs": [
    {
     "name": "stdout",
     "output_type": "stream",
     "text": [
      "a: XYZ\n",
      "b: ABC\n"
     ]
    }
   ],
   "source": [
    "a = 'ABC'\n",
    "b = a\n",
    "a = 'XYZ'\n",
    "print('a:', a)\n",
    "print('b:', b)"
   ]
  },
  {
   "cell_type": "markdown",
   "metadata": {},
   "source": [
    "**执行过程**\n",
    "1. 执行a = 'ABC'，解释器创建了字符串'ABC'和变量a，并把a指向'ABC'。\n",
    "2. 执行b = a，解释器创建了变量b，并把b指向a指向的字符串'ABC'。\n",
    "3. 执行a = 'XYZ'，解释器创建了字符串'XYZ'，并把a的指向改为'XYZ'，但b并没有更改。\n",
    "4. 所以，最后打印变量b的结果自然是'ABC'了。"
   ]
  },
  {
   "cell_type": "markdown",
   "metadata": {},
   "source": [
    "> 常量\n",
    "\n",
    "常量就是不能变的变量,Python根本没有任何机制保证PI不会被改变，所以，用全部大写的变量名表示常量只是一个习惯上的用法\n",
    "在Python中，有两种除法，一种除法是`/`"
   ]
  },
  {
   "cell_type": "code",
   "execution_count": 20,
   "metadata": {},
   "outputs": [
    {
     "data": {
      "text/plain": [
       "3.3333333333333335"
      ]
     },
     "execution_count": 20,
     "metadata": {},
     "output_type": "execute_result"
    }
   ],
   "source": [
    "10 / 3"
   ]
  },
  {
   "cell_type": "markdown",
   "metadata": {},
   "source": [
    "`/`除法计算结果是浮点数，即使是两个整数恰好整除，结果也是浮点数：\n",
    "还有一种除法是`//`，称为地板除，两个整数的除法仍然是整数："
   ]
  },
  {
   "cell_type": "code",
   "execution_count": 21,
   "metadata": {},
   "outputs": [
    {
     "data": {
      "text/plain": [
       "3"
      ]
     },
     "execution_count": 21,
     "metadata": {},
     "output_type": "execute_result"
    }
   ],
   "source": [
    "10 // 3"
   ]
  },
  {
   "cell_type": "markdown",
   "metadata": {},
   "source": [
    "余数运算，可以得到两个整数相除的余数："
   ]
  },
  {
   "cell_type": "code",
   "execution_count": 22,
   "metadata": {},
   "outputs": [
    {
     "data": {
      "text/plain": [
       "1"
      ]
     },
     "execution_count": 22,
     "metadata": {},
     "output_type": "execute_result"
    }
   ],
   "source": [
    "10 % 3"
   ]
  },
  {
   "cell_type": "markdown",
   "metadata": {},
   "source": [
    "#### 小结\n",
    "- Python支持多种数据类型，在计算机内部，可以把任何数据都看成一个“对象”，而变量就是在程序中用来指向这些数据对象的，对变量赋值就是把数据和变量给关联起来。\n",
    "- 对变量赋值x = y是把变量x指向真正的对象，该对象是变量y所指向的。随后对变量y的赋值不影响变量x的指向。\n",
    "- 注意：Python的整数没有大小限制，而某些语言的整数根据其存储长度是有大小限制的，例如Java对32位整数的范围限制在-2147483648-2147483647。\n",
    "- Python的浮点数也没有大小限制，但是超出一定范围就直接表示为inf（无限大）。"
   ]
  },
  {
   "cell_type": "markdown",
   "metadata": {},
   "source": [
    "### 字符串和编码\n",
    "#### 字符编码\n",
    "在计算机内存中，统一使用Unicode编码，即两个字节表示一个字符。当需要保存到硬盘或者需要传输的时候，就转换为UTF-8编码。\n",
    "#### Python的字符串\n",
    "字符串是以Unicode编码的，也就是说，Python的字符串支持多语言。对于单个字符的编码，Python提供了`ord()`函数获取字符的整数表示，`chr()`函数把编码转换为对应的字符\n",
    "#### 格式化\n",
    "采用的格式化方式和C语言是一致的，用%实现，举例如下："
   ]
  },
  {
   "cell_type": "code",
   "execution_count": 4,
   "metadata": {},
   "outputs": [
    {
     "data": {
      "text/plain": [
       "'Hello, world'"
      ]
     },
     "execution_count": 4,
     "metadata": {},
     "output_type": "execute_result"
    }
   ],
   "source": [
    "'Hello, %s' % 'world'"
   ]
  },
  {
   "cell_type": "code",
   "execution_count": 5,
   "metadata": {},
   "outputs": [
    {
     "data": {
      "text/plain": [
       "'Hi, Michael, you have $1000000.'"
      ]
     },
     "execution_count": 5,
     "metadata": {},
     "output_type": "execute_result"
    }
   ],
   "source": [
    "'Hi, %s, you have $%d.' % ('Michael', 1000000)"
   ]
  },
  {
   "cell_type": "markdown",
   "metadata": {},
   "source": [
    "`%`运算符就是用来格式化字符串的。在字符串内部，`%s`表示用字符串替换，`%d`表示用整数替换，有几个`%?`占位符，后面就跟几个变量或者值，顺序要对应好。如果只有一个`%?`，括号可以省略。"
   ]
  },
  {
   "cell_type": "markdown",
   "metadata": {},
   "source": [
    "### 使用list和tuple\n",
    "#### list\n",
    "Python内置的一种数据类型是列表：list。list是一种有序的集合，可以随时添加和删除其中的元素。"
   ]
  },
  {
   "cell_type": "code",
   "execution_count": 11,
   "metadata": {},
   "outputs": [
    {
     "data": {
      "text/plain": [
       "['Michael', 'Bob', 'Tracy']"
      ]
     },
     "execution_count": 11,
     "metadata": {},
     "output_type": "execute_result"
    }
   ],
   "source": [
    "classmates = ['Michael', 'Bob', 'Tracy']\n",
    "classmates"
   ]
  },
  {
   "cell_type": "markdown",
   "metadata": {},
   "source": [
    "取最后一个元素，除了计算索引位置外，还可以用`-1`做索引，直接获取最后一个元素。 list是一个可变的有序表，所以，可以往list中追加，插入，删除，修改等。\n",
    "list是一个可变的有序表，所以，可以往list中追加元素到末尾："
   ]
  },
  {
   "cell_type": "code",
   "execution_count": 14,
   "metadata": {},
   "outputs": [
    {
     "name": "stdout",
     "output_type": "stream",
     "text": [
      "Append: Adam: ['Michael', 'Jack', 'Tracy', 'Adam', 'last', 'Adam']\n",
      "insert Jack ['Michael', 'Jack', 'Jack', 'Tracy', 'Adam', 'last', 'Adam']\n",
      "pop ['Michael', 'Jack', 'Tracy', 'Adam', 'last', 'Adam']\n",
      "classmates[-1] ['Michael', 'Jack', 'Tracy', 'Adam', 'last', 'last']\n"
     ]
    }
   ],
   "source": [
    "classmates.append('Adam')\n",
    "print('Append: Adam:', classmates)\n",
    "classmates.insert(1, 'Jack')\n",
    "print(\"insert Jack\", classmates)\n",
    "classmates.pop(2) # 替换某个数字\n",
    "print(\"pop\", classmates)\n",
    "classmates[-1] = 'last'\n",
    "print(\"classmates[-1]\", classmates)"
   ]
  },
  {
   "cell_type": "code",
   "execution_count": 16,
   "metadata": {},
   "outputs": [
    {
     "data": {
      "text/plain": [
       "['Apple', 123, True]"
      ]
     },
     "execution_count": 16,
     "metadata": {},
     "output_type": "execute_result"
    }
   ],
   "source": [
    "# list里面的元素的数据类型也可以不同，比如：\n",
    "L = ['Apple', 123, True]\n",
    "L"
   ]
  },
  {
   "cell_type": "markdown",
   "metadata": {},
   "source": [
    "#### tuple\n",
    "另一种有序列表叫元组：`tuple`。`tuple`和`list`非常类似，但是`tuple`一旦初始化就不能修改\n",
    "它也没有`append()`，`insert()`这样的方法。其他获取元素的方法和list是一样的，你可以正常地使用`classmates[0]`，`classmates[-1]`，但不能赋值成另外的元素。"
   ]
  },
  {
   "cell_type": "code",
   "execution_count": 17,
   "metadata": {},
   "outputs": [
    {
     "name": "stdout",
     "output_type": "stream",
     "text": [
      "classmates: ('Michael', 'Bob', 'Tracy')\n"
     ]
    }
   ],
   "source": [
    "classmates = ('Michael', 'Bob', 'Tracy')\n",
    "print(\"classmates:\", classmates)"
   ]
  },
  {
   "cell_type": "markdown",
   "metadata": {},
   "source": [
    "因为tuple不可变，所以代码更安全。如果可能，能用tuple代替list就尽量用tuple。\n",
    "\n",
    "tuple的陷阱：当你定义一个tuple时，在定义的时候，tuple的元素就必须被确定下来，比如："
   ]
  },
  {
   "cell_type": "code",
   "execution_count": 19,
   "metadata": {},
   "outputs": [
    {
     "name": "stdout",
     "output_type": "stream",
     "text": [
      "(1, 2)\n"
     ]
    },
    {
     "data": {
      "text/plain": [
       "()"
      ]
     },
     "execution_count": 19,
     "metadata": {},
     "output_type": "execute_result"
    }
   ],
   "source": [
    "t = (1, 2)\n",
    "print(t)\n",
    "x = () # 如果要定义一个空的tuple，可以写成()：\n",
    "x"
   ]
  },
  {
   "cell_type": "markdown",
   "metadata": {},
   "source": [
    "但是，要定义一个只有1个元素的tuple，如果你这么定义："
   ]
  },
  {
   "cell_type": "code",
   "execution_count": 20,
   "metadata": {},
   "outputs": [
    {
     "name": "stdout",
     "output_type": "stream",
     "text": [
      "1\n"
     ]
    }
   ],
   "source": [
    "t = (1)\n",
    "print(t)"
   ]
  },
  {
   "cell_type": "markdown",
   "metadata": {},
   "source": [
    "定义的不是tuple，是1这个数！这是因为括号()既可以表示tuple，又可以表示数学公式中的小括号，这就产生了歧义，因此，Python规定，这种情况下，按小括号进行计算，计算结果自然是1。\n",
    "\n",
    "所以，只有1个元素的tuple定义时必须加一个逗号,，来消除歧义："
   ]
  },
  {
   "cell_type": "code",
   "execution_count": 22,
   "metadata": {},
   "outputs": [
    {
     "data": {
      "text/plain": [
       "(1,)"
      ]
     },
     "execution_count": 22,
     "metadata": {},
     "output_type": "execute_result"
    }
   ],
   "source": [
    "t = (1,) # Python在显示只有1个元素的tuple时，也会加一个逗号,，以免你误解成数学计算意义上的括号。\n",
    "t"
   ]
  },
  {
   "cell_type": "markdown",
   "metadata": {},
   "source": [
    "最后来看一个“可变的”tuple："
   ]
  },
  {
   "cell_type": "code",
   "execution_count": 24,
   "metadata": {},
   "outputs": [
    {
     "name": "stdout",
     "output_type": "stream",
     "text": [
      "('a', 'b', ['X', 'Y'])\n"
     ]
    }
   ],
   "source": [
    "t = ('a', 'b', ['A', 'B'])\n",
    "t[2][0] = \"X\"\n",
    "t[2][1] = \"Y\"\n",
    "print(t)"
   ]
  },
  {
   "cell_type": "markdown",
   "metadata": {},
   "source": [
    "这个tuple定义的时候有3个元素，分别是'a'，'b'和一个list。不是说tuple一旦定义后就不可变了吗？怎么后来又变了？\n",
    "\n",
    "变量作为指针；表面上看，tuple的元素确实变了，但其实变的不是tuple的元素，而是list的元素。tuple一开始指向的list并没有改成别的list，所以，tuple所谓的“不变”是说，tuple的每个元素，指向永远不变。即指向'a'，就不能改成指向'b'，指向一个list，就不能改成指向其他对象，但指向的这个list本身是可变的！"
   ]
  },
  {
   "cell_type": "markdown",
   "metadata": {},
   "source": [
    "#### 条件判断\n",
    "在Python程序中，用if语句实现："
   ]
  },
  {
   "cell_type": "code",
   "execution_count": 25,
   "metadata": {},
   "outputs": [
    {
     "name": "stdout",
     "output_type": "stream",
     "text": [
      "your age is 12\n",
      "teenage\n"
     ]
    }
   ],
   "source": [
    "age = 12\n",
    "if age >= 18 and age <= 60:\n",
    "    print('your age is', age)\n",
    "    print('adult')\n",
    "elif age >= 60:\n",
    "    print('your age is', age)\n",
    "    print('old')\n",
    "else:\n",
    "    print('your age is', age)\n",
    "    print('teenage')"
   ]
  },
  {
   "cell_type": "markdown",
   "metadata": {},
   "source": [
    "根据Python的缩进规则,注意不要少写了冒号`:`, if语句执行有个特点，它是从上往下判断，如果在某个判断上是True，把该判断对应的语句执行后，就忽略掉剩下的elif和else\n",
    "**再议 input**\n",
    "这是因为input()返回的数据类型是str，str不能直接和整数比较，必须先把str转换成整数。Python提供了int()函数来完成这件事情："
   ]
  },
  {
   "cell_type": "code",
   "execution_count": 27,
   "metadata": {},
   "outputs": [
    {
     "name": "stdout",
     "output_type": "stream",
     "text": [
      "birth: 1943\n",
      "00前\n"
     ]
    }
   ],
   "source": [
    "s = input('birth: ')\n",
    "birth = int(s) # int() 转成数字型\n",
    "if birth < 2000:\n",
    "    print('00前')\n",
    "else:\n",
    "    print('00后')"
   ]
  },
  {
   "cell_type": "markdown",
   "metadata": {},
   "source": [
    "#### 循环\n",
    "`for x in ...`循环就是把每个元素代入变量x，然后执行缩进块的语句。\n",
    "第二种循环是while循环，只要条件满足，就不断循环，条件不满足时退出循环"
   ]
  },
  {
   "cell_type": "code",
   "execution_count": 31,
   "metadata": {},
   "outputs": [
    {
     "name": "stdout",
     "output_type": "stream",
     "text": [
      "1\n",
      "2\n",
      "3\n",
      "4\n",
      "5\n",
      "6\n",
      "7\n",
      "8\n",
      "9\n",
      "10\n",
      "55\n"
     ]
    },
    {
     "data": {
      "text/plain": [
       "[0, 1, 2, 3, 4]"
      ]
     },
     "execution_count": 31,
     "metadata": {},
     "output_type": "execute_result"
    }
   ],
   "source": [
    "sum = 0\n",
    "for x in [1, 2, 3, 4, 5, 6, 7, 8, 9, 10]:\n",
    "    print(x)\n",
    "    sum = sum + x\n",
    "print(sum)\n",
    "\n",
    "list(range(5))# list 调用"
   ]
  },
  {
   "cell_type": "code",
   "execution_count": 34,
   "metadata": {},
   "outputs": [
    {
     "name": "stdout",
     "output_type": "stream",
     "text": [
      "2500\n"
     ]
    }
   ],
   "source": [
    "sum = 0\n",
    "n = 99\n",
    "while n > 0:\n",
    "    sum = sum + n\n",
    "    n = n - 2\n",
    "print(sum)"
   ]
  },
  {
   "cell_type": "markdown",
   "metadata": {},
   "source": [
    "### 使用dict和set\n",
    "#### dict\n",
    "Python内置了字典：dict的支持，dict全称dictionary，在其他语言中也称为map，使用键-值（key-value）存储，具有极快的查找速度。"
   ]
  },
  {
   "cell_type": "code",
   "execution_count": 39,
   "metadata": {},
   "outputs": [
    {
     "name": "stdout",
     "output_type": "stream",
     "text": [
      "89\n",
      "ss\n",
      "dd\n"
     ]
    }
   ],
   "source": [
    "d={\"Maichel\": 89, \"Adele\": \"ss\", \"John\":\"dd\"}\n",
    "print(d[\"Maichel\"])\n",
    "print(d[\"Adele\"])\n",
    "print(d[\"John\"])"
   ]
  },
  {
   "cell_type": "markdown",
   "metadata": {},
   "source": [
    "1. 要避免key不存在的错误，有两种办法，一是通过in判断key是否存在\n",
    "2. 二是通过dict提供的get()方法，如果key不存在，可以返回None，或者自己指定的value"
   ]
  },
  {
   "cell_type": "code",
   "execution_count": 44,
   "metadata": {},
   "outputs": [
    {
     "name": "stdout",
     "output_type": "stream",
     "text": [
      "False\n"
     ]
    },
    {
     "data": {
      "text/plain": [
       "-1"
      ]
     },
     "execution_count": 44,
     "metadata": {},
     "output_type": "execute_result"
    }
   ],
   "source": [
    "print('Thomas' in d)\n",
    "d.get('Thomas', -1)"
   ]
  },
  {
   "cell_type": "code",
   "execution_count": 46,
   "metadata": {},
   "outputs": [
    {
     "name": "stdout",
     "output_type": "stream",
     "text": [
      "{'Maichel': 89, 'Adele': 'ss'}\n"
     ]
    }
   ],
   "source": [
    "#要删除一个key，用pop(key)方法，对应的value也会从dict中删除：\n",
    "d.pop('John')\n",
    "print(d)"
   ]
  },
  {
   "cell_type": "markdown",
   "metadata": {},
   "source": [
    "使用key-value存储结构的dict在Python中非常有用，选择不可变对象作为key很重要，最常用的key是字符串。这是因为dict根据key来计算value的存储位置，如果每次计算相同的key得出的结果不同，那dict内部就完全混乱了。这个通过key计算位置的算法称为哈希算法（Hash）。要保证hash的正确性，作为key的对象就不能变。在Python中，字符串、整数等都是不可变的，因此，可以放心地作为key。而list是可变的，就不能作为key。"
   ]
  },
  {
   "cell_type": "markdown",
   "metadata": {},
   "source": [
    "#### set\n",
    "set和dict类似，也是一组key的集合，但不存储value。由于key不能重复，所以，在set中，没有重复的key。\n",
    "要创建一个set，需要提供一个list作为输入集合："
   ]
  },
  {
   "cell_type": "code",
   "execution_count": 48,
   "metadata": {},
   "outputs": [
    {
     "data": {
      "text/plain": [
       "{1, 2, 3}"
      ]
     },
     "execution_count": 48,
     "metadata": {},
     "output_type": "execute_result"
    }
   ],
   "source": [
    "s = set([1, 2, 3])\n",
    "s"
   ]
  },
  {
   "cell_type": "code",
   "execution_count": 51,
   "metadata": {},
   "outputs": [
    {
     "data": {
      "text/plain": [
       "{1, 2, 4}"
      ]
     },
     "execution_count": 51,
     "metadata": {},
     "output_type": "execute_result"
    }
   ],
   "source": [
    "sets = set([2, 4, 5])\n",
    "sets.add(4) # 通过add(key)方法可以添加元素到set中，可以重复添加，但不会有效果\n",
    "sets.add(1)\n",
    "sets.remove(5) # 通过remove(key)方法可以删除元素\n",
    "sets"
   ]
  },
  {
   "cell_type": "code",
   "execution_count": 54,
   "metadata": {},
   "outputs": [
    {
     "name": "stdout",
     "output_type": "stream",
     "text": [
      "{2, 3}\n",
      "{1, 2, 3, 4}\n"
     ]
    }
   ],
   "source": [
    "# set可以看成数学意义上的无序和无重复元素的集合，因此，两个set可以做数学意义上的交集、并集等操作：\n",
    "s1 = set([1, 2, 3])\n",
    "s2 = set([2, 3, 4])\n",
    "print(s1 & s2)\n",
    "print(s1 | s2)"
   ]
  },
  {
   "cell_type": "markdown",
   "metadata": {},
   "source": [
    "#### 再议不可变对象\n",
    "str是不变对象，而list是可变对象。\n",
    "对于可变对象，比如list，对list进行操作，list内部的内容是会变化的，比如："
   ]
  },
  {
   "cell_type": "code",
   "execution_count": 55,
   "metadata": {},
   "outputs": [
    {
     "name": "stdout",
     "output_type": "stream",
     "text": [
      "['a', 'b', 'c']\n"
     ]
    }
   ],
   "source": [
    "a = ['c', 'b', 'a']\n",
    "a.sort()\n",
    "print(a)"
   ]
  },
  {
   "cell_type": "markdown",
   "metadata": {},
   "source": [
    "而对于不可变对象，比如str，对str进行操作："
   ]
  },
  {
   "cell_type": "code",
   "execution_count": 57,
   "metadata": {},
   "outputs": [
    {
     "name": "stdout",
     "output_type": "stream",
     "text": [
      "Abc\n",
      "abc\n"
     ]
    }
   ],
   "source": [
    "a = 'abc'\n",
    "b = a.replace('a', 'A')\n",
    "print(b)\n",
    "print(a)"
   ]
  },
  {
   "cell_type": "markdown",
   "metadata": {},
   "source": [
    "1. 要始终牢记的是，a是变量，而'abc'才是字符串对象！有些时候，我们经常说，对象a的内容是'abc'，但其实是指，a本身是一个变量，它指向的对象的内容才是'abc'：  a-------> 'abc';\n",
    "2. 当我们调用a.replace('a', 'A')时，实际上调用方法replace是作用在字符串对象'abc'上的，而这个方法虽然名字叫replace，但却没有改变字符串'abc'的内容。相反，replace方法创建了一个新字符串'Abc'并返回，如果我们用变量b指向该新字符串，就容易理解了，变量a仍指向原有的字符串'abc'，但变量b却指向新字符串'Abc'了;\n",
    "3. 所以，对于不变对象来说，调用对象自身的任意方法，也不会改变该对象自身的内容。相反，这些方法会创建新的对象并返回，这样，就保证了不可变对象本身永远是不可变的。"
   ]
  },
  {
   "cell_type": "markdown",
   "metadata": {},
   "source": [
    "### 函数\n",
    "\n",
    "#### 调用函数 \n",
    "    要调用一个函数，需要知道函数的名称和参数,可以从Python的官方网站查看文档，另外从也可以在交互式命令行通过`help(abs)`查看`abs函数`的帮助信息。内置的abs(),绝对值函数；"
   ]
  },
  {
   "cell_type": "code",
   "execution_count": 61,
   "metadata": {},
   "outputs": [
    {
     "name": "stdout",
     "output_type": "stream",
     "text": [
      "4\n",
      "3\n",
      "12.34\n",
      "12.34\n",
      "False\n"
     ]
    }
   ],
   "source": [
    "print(abs(-4))\n",
    "print(int('3'))\n",
    "print(float('12.34'))\n",
    "print(str(12.34))\n",
    "print(bool(0))"
   ]
  },
  {
   "cell_type": "markdown",
   "metadata": {},
   "source": [
    "#### 定义函数\n",
    "1. 在Python中，定义一个函数要使用def语句，依次写出函数名、括号、括号中的参数和冒号`:`，然后，在缩进块中编写函数体，函数的返回值用return语句返回。\n",
    "2. 请注意，函数体内部的语句在执行时，一旦执行到return时，函数就执行完毕，并将结果返回。因此，函数内部通过条件判断和循环可以实现非常复杂的逻辑。如果没有return语句，函数执行完毕后也会返回结果，只是结果为`None`。`return None`可以简写为`return`。\n",
    "3. 如果你已经把`my_abs()`的函数定义保存为`abstest.py`文件了，那么，可以在该文件的当前目录下启动Python解释器，用`from abstest import my_abs`来导入`my_abs()`函数，注意abstest是文件名（不含.py扩展名）"
   ]
  },
  {
   "cell_type": "markdown",
   "metadata": {},
   "source": [
    "**空函数**\n",
    "1. 如果想定义一个什么事也不做的空函数，可以用pass语句：\n",
    "2. pass语句什么都不做，那有什么用？实际上pass可以用来作为占位符，比如现在还没想好怎么写函数的代码，就可以先放一个pass，让代码能运行起来。"
   ]
  },
  {
   "cell_type": "code",
   "execution_count": 62,
   "metadata": {},
   "outputs": [],
   "source": [
    "def op():\n",
    "    pass"
   ]
  },
  {
   "cell_type": "markdown",
   "metadata": {},
   "source": [
    "**参数检查**\n",
    " 对参数类型做检查，只允许整数和浮点数类型的参数。数据类型检查可以用内置函数`isinstance()`实现："
   ]
  },
  {
   "cell_type": "code",
   "execution_count": 68,
   "metadata": {},
   "outputs": [
    {
     "ename": "TypeError",
     "evalue": "bad operand type",
     "output_type": "error",
     "traceback": [
      "\u001b[0;31m---------------------------------------------------------------------------\u001b[0m",
      "\u001b[0;31mTypeError\u001b[0m                                 Traceback (most recent call last)",
      "\u001b[0;32m<ipython-input-68-e53a6b326d38>\u001b[0m in \u001b[0;36m<module>\u001b[0;34m()\u001b[0m\n\u001b[1;32m      9\u001b[0m \u001b[0;34m\u001b[0m\u001b[0m\n\u001b[1;32m     10\u001b[0m \u001b[0mmy_abs\u001b[0m\u001b[0;34m(\u001b[0m\u001b[0;34m-\u001b[0m\u001b[0;36m3\u001b[0m\u001b[0;34m)\u001b[0m\u001b[0;34m\u001b[0m\u001b[0m\n\u001b[0;32m---> 11\u001b[0;31m \u001b[0mmy_abs\u001b[0m\u001b[0;34m(\u001b[0m\u001b[0;34m'a'\u001b[0m\u001b[0;34m)\u001b[0m\u001b[0;34m\u001b[0m\u001b[0m\n\u001b[0m",
      "\u001b[0;32m<ipython-input-68-e53a6b326d38>\u001b[0m in \u001b[0;36mmy_abs\u001b[0;34m(x)\u001b[0m\n\u001b[1;32m      1\u001b[0m \u001b[0;32mdef\u001b[0m \u001b[0mmy_abs\u001b[0m\u001b[0;34m(\u001b[0m\u001b[0mx\u001b[0m\u001b[0;34m)\u001b[0m\u001b[0;34m:\u001b[0m\u001b[0;34m\u001b[0m\u001b[0m\n\u001b[1;32m      2\u001b[0m     \u001b[0;32mif\u001b[0m \u001b[0;32mnot\u001b[0m \u001b[0misinstance\u001b[0m\u001b[0;34m(\u001b[0m\u001b[0mx\u001b[0m\u001b[0;34m,\u001b[0m \u001b[0;34m(\u001b[0m\u001b[0mint\u001b[0m\u001b[0;34m,\u001b[0m \u001b[0mfloat\u001b[0m\u001b[0;34m)\u001b[0m\u001b[0;34m)\u001b[0m\u001b[0;34m:\u001b[0m\u001b[0;34m\u001b[0m\u001b[0m\n\u001b[0;32m----> 3\u001b[0;31m         \u001b[0;32mraise\u001b[0m \u001b[0mTypeError\u001b[0m\u001b[0;34m(\u001b[0m\u001b[0;34m\"bad operand type\"\u001b[0m\u001b[0;34m)\u001b[0m\u001b[0;34m\u001b[0m\u001b[0m\n\u001b[0m\u001b[1;32m      4\u001b[0m     \u001b[0;32mif\u001b[0m \u001b[0mx\u001b[0m \u001b[0;34m<\u001b[0m \u001b[0;36m0\u001b[0m\u001b[0;34m:\u001b[0m\u001b[0;34m\u001b[0m\u001b[0m\n\u001b[1;32m      5\u001b[0m         \u001b[0mx\u001b[0m \u001b[0;34m=\u001b[0m \u001b[0;34m-\u001b[0m\u001b[0mx\u001b[0m\u001b[0;34m\u001b[0m\u001b[0m\n",
      "\u001b[0;31mTypeError\u001b[0m: bad operand type"
     ]
    }
   ],
   "source": [
    "def my_abs(x):\n",
    "    if not isinstance(x, (int, float)):\n",
    "        raise TypeError(\"bad operand type\")\n",
    "    if x < 0:\n",
    "        x = -x\n",
    "    else:\n",
    "        x = x\n",
    "    return x\n",
    "\n",
    "my_abs(-3)\n",
    "my_abs('a')"
   ]
  },
  {
   "cell_type": "markdown",
   "metadata": {},
   "source": [
    "**返回多个值**\n",
    "比如在游戏中经常需要从一个点移动到另一个点，给出坐标、位移和角度，就可以计算出新的新的坐标："
   ]
  },
  {
   "cell_type": "code",
   "execution_count": 70,
   "metadata": {},
   "outputs": [
    {
     "name": "stdout",
     "output_type": "stream",
     "text": [
      "151.96152422706632 70.0\n"
     ]
    }
   ],
   "source": [
    "import math\n",
    "def move(x, y, step, angle):\n",
    "    nx = x+step*math.cos(angle)\n",
    "    ny = y - step*math.sin(angle)\n",
    "    return nx, ny\n",
    "x, y = move(100, 100, 60, math.pi / 6)\n",
    "print(x, y)"
   ]
  },
  {
   "cell_type": "markdown",
   "metadata": {},
   "source": [
    "但其实这只是一种假象，Python函数返回的仍然是单一值;原来返回值是一个tuple！但是，在语法上，返回一个tuple可以省略括号，而多个变量可以同时接收一个tuple，按位置赋给对应的值，所以，Python的函数返回多值其实就是返回一个tuple，但写起来更方便。"
   ]
  },
  {
   "cell_type": "markdown",
   "metadata": {},
   "source": [
    "**小结**\n",
    "- 定义函数时，需要确定函数名和参数个数；\n",
    "- 如果有必要，可以先对参数的数据类型做检查；\n",
    "- 函数体内部可以用return随时返回函数结果；\n",
    "- 函数执行完毕也没有return语句时，自动return None。\n",
    "- 函数可以同时返回多个值，但其实就是一个tuple。"
   ]
  },
  {
   "cell_type": "markdown",
   "metadata": {},
   "source": [
    "#### 函数的参数\n",
    "1. 定义函数的时候，我们把参数的名字和位置确定下来，函数的接口定义就完成了.\n",
    "2. 除了正常定义的**必选参数**外，还可以使用**默认参数**、**可变参数**和**关键字参数**，使得函数定义出来的接口，不但能处理复杂的参数，还可以简化调用者的代码。"
   ]
  },
  {
   "cell_type": "markdown",
   "metadata": {},
   "source": [
    "**位置参数**\n",
    "1. 修改后的power(x, n)函数有两个参数：x和n，这两个参数都是位置参数，调用函数时，传入的两个值按照位置顺序依次赋给参数x和n。"
   ]
  },
  {
   "cell_type": "code",
   "execution_count": 72,
   "metadata": {},
   "outputs": [
    {
     "data": {
      "text/plain": [
       "8"
      ]
     },
     "execution_count": 72,
     "metadata": {},
     "output_type": "execute_result"
    }
   ],
   "source": [
    "def power(x, n):\n",
    "    sum = 1\n",
    "    while n > 0:\n",
    "        sum = sum * x\n",
    "        n = n - 1\n",
    "    return sum\n",
    "power(2, 3)"
   ]
  },
  {
   "cell_type": "markdown",
   "metadata": {},
   "source": [
    "**默认参数**\n",
    "1. 由于我们经常计算x2，所以，完全可以把第二个参数n的默认值设定为2\n",
    "2. 设置默认参数时，有几点要注意：\n",
    "    1. 是必选参数在前，默认参数在后，否则Python的解释器会报错\n",
    "    2. 是如何设置默认参数:当函数有多个参数时，把变化大的参数放前面，变化小的参数放后面。变化小的参数就可以作为默认参数\n",
    "3. 定义默认参数要牢记一点：默认参数必须指向不变对象！"
   ]
  },
  {
   "cell_type": "code",
   "execution_count": 74,
   "metadata": {},
   "outputs": [
    {
     "name": "stdout",
     "output_type": "stream",
     "text": [
      "14\n",
      "14\n"
     ]
    }
   ],
   "source": [
    "def calc(numbers):\n",
    "    sum = 0\n",
    "    for n in numbers:\n",
    "        sum = sum +n*n\n",
    "    return sum\n",
    "# 但是调用的时候，需要先组装出一个list或tuple：\n",
    "print(calc([1,2,3]))\n",
    "print(calc((1, 2, 3)))"
   ]
  },
  {
   "cell_type": "markdown",
   "metadata": {},
   "source": [
    "**可变参数**\n",
    "    1. 可变参数就是传入的参数个数是可变的，可以是1个、2个到任意个，还可以是0个。\n",
    "    2. 给定一组数字a，b，c……，请计算a2 + b2 + c2 + ……， 要定义出这个函数，我们必须确定输入的参数。由于参数个数不确定，我们首先想到可以把a，b，c……作为一个list或tuple传进来，这样，函数可以定义如下："
   ]
  },
  {
   "cell_type": "code",
   "execution_count": 75,
   "metadata": {},
   "outputs": [
    {
     "name": "stdout",
     "output_type": "stream",
     "text": [
      "14\n",
      "30\n"
     ]
    }
   ],
   "source": [
    "# 函数的参数改为可变参数：\n",
    "def calc(*numbers):\n",
    "    sum = 0\n",
    "    for n in numbers:\n",
    "        sum = sum + n * n\n",
    "    return sum\n",
    "print(calc(1, 2, 3))\n",
    "print(calc(1, 2, 3, 4))"
   ]
  },
  {
   "cell_type": "markdown",
   "metadata": {},
   "source": [
    "1. 定义可变参数和定义一个list或tuple参数相比，仅仅在参数前面加了一个*号。\n",
    "2. 在函数内部，参数numbers接收到的是一个tuple，因此，函数代码完全不变。但是，调用该函数时，可以传入任意个参数，包括0个参数\n",
    "\n",
    "如果已经有一个list或者tuple，要调用一个可变参数怎么办？可以这样做："
   ]
  },
  {
   "cell_type": "code",
   "execution_count": 76,
   "metadata": {},
   "outputs": [
    {
     "data": {
      "text/plain": [
       "14"
      ]
     },
     "execution_count": 76,
     "metadata": {},
     "output_type": "execute_result"
    }
   ],
   "source": [
    "nums = [1, 2, 3]\n",
    "calc(nums[0], nums[1], nums[2]) # 过于繁琐\n",
    "calc(*nums) # 允许你在list或tuple前面加一个*号，把list或tuple的元素变成可变参数传进去"
   ]
  },
  {
   "cell_type": "markdown",
   "metadata": {},
   "source": [
    "**关键字参数**\n",
    "1. 可变参数允许你传入0个或任意个参数，这些可变参数在函数调用时自动组装为一个tuple。\n",
    "2. 而关键字参数允许你传入0个或任意个含参数名的参数，这些关键字参数在函数内部自动组装为一个dict。请看示例："
   ]
  },
  {
   "cell_type": "code",
   "execution_count": 84,
   "metadata": {},
   "outputs": [
    {
     "name": "stdout",
     "output_type": "stream",
     "text": [
      "('name:', 'Maichel', 'age:', 12, 'others:', {})\n",
      "('name:', 'Bob', 'age:', 35, 'others:', {'city': 'Beijing'})\n",
      "('name:', 'AoA', 'age:', 30, 'others:', {'job': 'Engineer', 'city': 'HZ'})\n",
      "('name:', 'COC', 'age:', 22, 'others:', {'Job': 'Engineer', 'City': 'HZ'})\n"
     ]
    }
   ],
   "source": [
    "def person(name, age, **kw):\n",
    "    return (\"name:\", name, \"age:\", age, \"others:\",kw)\n",
    "# 函数person除了必选参数name和age外，还接受关键字参数kw。在调用该函数时，可以只传入必选参数：\n",
    "print(person(\"Maichel\", 12))\n",
    "print(person('Bob', 35, city='Beijing'))\n",
    "print(person(\"AoA\", 30, job=\"Engineer\", city=\"HZ\"))  # 它可以扩展函数的功能,\n",
    "\n",
    "extra={\"Job\":\"Engineer\", \"City\": \"HZ\"}\n",
    "print(person(\"COC\", 22, **extra))"
   ]
  },
  {
   "cell_type": "markdown",
   "metadata": {},
   "source": [
    " `**extra`表示把`extra`这个dict的所有`key-value`用关键字参数传入到函数的`**kw`参数，kw将获得一个dict，注意kw获得的dict是extra的一份拷贝，对kw的改动不会影响到函数外的extra"
   ]
  },
  {
   "cell_type": "markdown",
   "metadata": {},
   "source": [
    "**命名关键字参数**\n",
    "    1. 对于关键字参数，函数的调用者可以传入任意不受限制的关键字参数。至于到底传入了哪些，就需要在函数内部通过kw检查。\n",
    "    2. 仍以person()函数为例，我们希望检查是否有city和job参数"
   ]
  },
  {
   "cell_type": "code",
   "execution_count": 85,
   "metadata": {},
   "outputs": [
    {
     "name": "stdout",
     "output_type": "stream",
     "text": [
      "name: Jack age: 24 other: {'city': 'Beijing', 'addr': 'Chaoyang', 'zipcode': 123456}\n"
     ]
    }
   ],
   "source": [
    "def person(name, age, **kw):\n",
    "    if 'city' in kw:\n",
    "        pass\n",
    "    if 'job' in kw:\n",
    "        pass\n",
    "    print('name:', name, 'age:', age, 'other:', kw)\n",
    "# 但是调用者仍可以传入不受限制的关键字参数：\n",
    "person('Jack', 24, city='Beijing', addr='Chaoyang', zipcode=123456)"
   ]
  },
  {
   "cell_type": "code",
   "execution_count": 88,
   "metadata": {},
   "outputs": [
    {
     "name": "stdout",
     "output_type": "stream",
     "text": [
      "Jack 24 Beijing Engineer\n"
     ]
    }
   ],
   "source": [
    "# 如果要限制关键字参数的名字，就可以用命名关键字参数，例如，只接收city和job作为关键字参数。这种方式定义的函数如下：\n",
    "def person(name, age, *, job, city):\n",
    "    print(name, age, city, job)\n",
    "# 和关键字参数**kw不同，命名关键字参数需要一个特殊分隔符*，*后面的参数被视为命名关键字参数。\n",
    "person('Jack', 24, city='Beijing', job='Engineer')\n",
    "#如果函数定义中已经有了一个可变参数，后面跟着的命名关键字参数就不再需要一个特殊分隔符*了：\n",
    "def person2(name, age, *args, city, job):\n",
    "    print(name, age, args, city, job)"
   ]
  },
  {
   "cell_type": "code",
   "execution_count": 89,
   "metadata": {},
   "outputs": [
    {
     "ename": "TypeError",
     "evalue": "person() takes 2 positional arguments but 4 were given",
     "output_type": "error",
     "traceback": [
      "\u001b[0;31m---------------------------------------------------------------------------\u001b[0m",
      "\u001b[0;31mTypeError\u001b[0m                                 Traceback (most recent call last)",
      "\u001b[0;32m<ipython-input-89-d3e3a315b65a>\u001b[0m in \u001b[0;36m<module>\u001b[0;34m()\u001b[0m\n\u001b[1;32m      1\u001b[0m \u001b[0;31m# 命名关键字参数必须传入参数名，这和位置参数不同。如果没有传入参数名，调用将报错：\u001b[0m\u001b[0;34m\u001b[0m\u001b[0;34m\u001b[0m\u001b[0m\n\u001b[0;32m----> 2\u001b[0;31m \u001b[0mperson\u001b[0m\u001b[0;34m(\u001b[0m\u001b[0;34m'Jack'\u001b[0m\u001b[0;34m,\u001b[0m \u001b[0;36m24\u001b[0m\u001b[0;34m,\u001b[0m \u001b[0;34m'Beijing'\u001b[0m\u001b[0;34m,\u001b[0m \u001b[0;34m'Engineer'\u001b[0m\u001b[0;34m)\u001b[0m\u001b[0;34m\u001b[0m\u001b[0m\n\u001b[0m",
      "\u001b[0;31mTypeError\u001b[0m: person() takes 2 positional arguments but 4 were given"
     ]
    }
   ],
   "source": [
    "# 命名关键字参数必须传入参数名，这和位置参数不同。如果没有传入参数名，调用将报错：\n",
    "person('Jack', 24, 'Beijing', 'Engineer')\n",
    "# 由于调用时缺少参数名city和job，Python解释器把这4个参数均视为位置参数，但person()函数仅接受2个位置参数。\n",
    "# 命名关键字参数可以有缺省值，从而简化调用\n",
    "def person(name, age, *, city='Beijing', job):\n",
    "    print(name, age, city, job)"
   ]
  },
  {
   "cell_type": "markdown",
   "metadata": {},
   "source": [
    "**参数组合**\n",
    "    1. 定义函数，可以用必选参数、默认参数、可变参数、关键字参数和命名关键字参数，这5种参数都可以组合使用。\n",
    "    2. 但是请注意，参数定义的顺序必须是：必选参数、默认参数、可变参数、命名关键字参数和关键字参数。"
   ]
  },
  {
   "cell_type": "code",
   "execution_count": 96,
   "metadata": {},
   "outputs": [
    {
     "name": "stdout",
     "output_type": "stream",
     "text": [
      "a = 1 b = 2 c = 0 args = () kw = {}\n",
      "None\n",
      "a = 1 b = 2 c = 3 args = () kw = {}\n",
      "None\n",
      "a = 1 b = 2 c = 3 args = ('a', 'b') kw = {}\n",
      "None\n",
      "a = 1 b = 2 c = 3 args = ('a', 'b') kw = {'x': 99}\n",
      "a = 1 b = 2 c = 0 d = 99 kw = {'ext': None}\n"
     ]
    }
   ],
   "source": [
    "def f1(a, b, c=0, *args, **kw):\n",
    "    print('a =', a, 'b =', b, 'c =', c, 'args =', args, 'kw =', kw)\n",
    "def f2(a, b, c=0, *, d, **kw):\n",
    "    print('a =', a, 'b =', b, 'c =', c, 'd =', d, 'kw =', kw)\n",
    "print(f1(1, 2))\n",
    "print(f1(1, 2, c=3))\n",
    "print(f1(1, 2, 3, 'a', 'b'))\n",
    "f1(1, 2, 3, 'a', 'b', x=99)\n",
    "f2(1, 2, d=99, ext=None)"
   ]
  },
  {
   "cell_type": "markdown",
   "metadata": {},
   "source": [
    "**小结**\n",
    "    1. Python的函数具有非常灵活的参数形态，既可以实现简单的调用，又可以传入非常复杂的参数。\n",
    "    2. 默认参数一定要用不可变对象，如果是可变对象，程序运行时会有逻辑错误！\n",
    "    3. 要注意定义可变参数和关键字参数的语法： \n",
    "        1. `*args`是可变参数，args接收的是一个tuple；\n",
    "        2. `**kw`是关键字参数，kw接收的是一个dict。\n",
    "    4. 以及调用函数时如何传入可变参数和关键字参数的语法：\n",
    "        1. 可变参数既可以直接传入：`func(1, 2, 3)`，又可以先组装`list或tuple`，再通过`*args`传入：`func(*(1, 2, 3))`；\n",
    "        2. 关键字参数既可以直接传入：func(a=1, b=2)，又可以先组装dict，再通过`**kw`传入：`func(**{'a': 1, 'b': 2})`。\n",
    "        3. 使用`*args`和`**kw`是Python的习惯写法，当然也可以用其他参数名，但最好使用习惯用法。\n",
    "        4. 命名的关键字参数是为了限制调用者可以传入的参数名，同时可以提供默认值。\n",
    "        5. 定义命名的关键字参数在没有可变参数的情况下不要忘了写分隔符*，否则定义的将是位置参数。"
   ]
  },
  {
   "cell_type": "markdown",
   "metadata": {},
   "source": [
    "#### 递归函数\n",
    "    1. 在函数内部，可以调用其他函数。如果一个函数在内部调用自身本身，这个函数就是递归函数。\n",
    "    2. 递归函数注意 递归公式与递归结束条件"
   ]
  },
  {
   "cell_type": "markdown",
   "metadata": {},
   "source": [
    "## 高级特性\n",
    "### 切片\n",
    "取前3个元素，用一行代码就可以完成切片："
   ]
  },
  {
   "cell_type": "code",
   "execution_count": 30,
   "metadata": {},
   "outputs": [
    {
     "data": {
      "text/plain": [
       "['AA', 'vvv', 'dddd']"
      ]
     },
     "execution_count": 30,
     "metadata": {},
     "output_type": "execute_result"
    }
   ],
   "source": [
    "L=[\"AA\",\"vvv\", \"dddd\",\"ddd\"]\n",
    "L[0:3]"
   ]
  },
  {
   "cell_type": "markdown",
   "metadata": {},
   "source": [
    "前4个数，每两个取一个："
   ]
  },
  {
   "cell_type": "code",
   "execution_count": 31,
   "metadata": {},
   "outputs": [
    {
     "data": {
      "text/plain": [
       "['AA', 'dddd']"
      ]
     },
     "execution_count": 31,
     "metadata": {},
     "output_type": "execute_result"
    }
   ],
   "source": [
    "L=[\"AA\",\"vvv\", \"dddd\",\"ddd\"]\n",
    "L[:4:2]"
   ]
  },
  {
   "cell_type": "markdown",
   "metadata": {},
   "source": [
    "反向："
   ]
  },
  {
   "cell_type": "code",
   "execution_count": 32,
   "metadata": {},
   "outputs": [
    {
     "data": {
      "text/plain": [
       "['ddd', 'dddd', 'vvv', 'AA']"
      ]
     },
     "execution_count": 32,
     "metadata": {},
     "output_type": "execute_result"
    }
   ],
   "source": [
    "L=[\"AA\",\"vvv\", \"dddd\",\"ddd\"]\n",
    "L[::-1]"
   ]
  },
  {
   "cell_type": "markdown",
   "metadata": {},
   "source": [
    "### 迭代\n",
    "迭代是通过`for ... in`来完成的,Python的for循环不仅可以用在list或tuple上，还可以作用在其他可迭代对象上。如dict，\n",
    "### 列表生成式\n",
    "生成`list [1, 2, 3, 4, 5, 6, 7, 8, 9, 10]`可以用`list(range(1, 11))`：\n",
    "可以用:"
   ]
  },
  {
   "cell_type": "code",
   "execution_count": 33,
   "metadata": {},
   "outputs": [
    {
     "data": {
      "text/plain": [
       "[4, 16, 36, 64, 100]"
      ]
     },
     "execution_count": 33,
     "metadata": {},
     "output_type": "execute_result"
    }
   ],
   "source": [
    "[x * x for x in range(1, 11) if x % 2 == 0]"
   ]
  },
  {
   "cell_type": "markdown",
   "metadata": {},
   "source": [
    "### 生成器\n",
    "一边循环一边计算的机制，称为生成器：generator。\n",
    "第一种方法很简单，只要把一个列表生成式的[]改成()，就创建了一个generator："
   ]
  },
  {
   "cell_type": "code",
   "execution_count": 35,
   "metadata": {},
   "outputs": [
    {
     "data": {
      "text/plain": [
       "[0, 1, 4, 9, 16, 25, 36, 49, 64, 81]"
      ]
     },
     "execution_count": 35,
     "metadata": {},
     "output_type": "execute_result"
    }
   ],
   "source": [
    "L = [x * x for x in range(10)]\n",
    "L"
   ]
  },
  {
   "cell_type": "code",
   "execution_count": 36,
   "metadata": {},
   "outputs": [
    {
     "data": {
      "text/plain": [
       "<generator object <genexpr> at 0x7ff9f0184db0>"
      ]
     },
     "execution_count": 36,
     "metadata": {},
     "output_type": "execute_result"
    }
   ],
   "source": [
    "g = (x * x for x in range(10))\n",
    "g"
   ]
  },
  {
   "cell_type": "markdown",
   "metadata": {},
   "source": [
    "定义generator的另一种方法。如果一个函数定义中包含yield关键字，那么这个函数就不再是一个普通函数，而是一个generator："
   ]
  },
  {
   "cell_type": "code",
   "execution_count": 37,
   "metadata": {},
   "outputs": [],
   "source": [
    "def fib(max):\n",
    "    n, a, b = 0, 0, 1\n",
    "    while n < max:\n",
    "        yield b\n",
    "        a, b = b, a + b\n",
    "        n = n + 1\n",
    "    return 'done'"
   ]
  },
  {
   "cell_type": "markdown",
   "metadata": {},
   "source": [
    "### 迭代器\n",
    "生成器都是Iterator对象，但list、dict、str虽然是Iterable，却不是Iterator。\n",
    "\n",
    "把list、dict、str等Iterable变成Iterator可以使用iter()函数"
   ]
  },
  {
   "cell_type": "code",
   "execution_count": 38,
   "metadata": {},
   "outputs": [
    {
     "ename": "NameError",
     "evalue": "name 'Iterator' is not defined",
     "output_type": "error",
     "traceback": [
      "\u001b[0;31m---------------------------------------------------------------------------\u001b[0m",
      "\u001b[0;31mNameError\u001b[0m                                 Traceback (most recent call last)",
      "\u001b[0;32m<ipython-input-38-e8b65222efaf>\u001b[0m in \u001b[0;36m<module>\u001b[0;34m()\u001b[0m\n\u001b[0;32m----> 1\u001b[0;31m \u001b[0misinstance\u001b[0m\u001b[0;34m(\u001b[0m\u001b[0miter\u001b[0m\u001b[0;34m(\u001b[0m\u001b[0;34m[\u001b[0m\u001b[0;34m]\u001b[0m\u001b[0;34m)\u001b[0m\u001b[0;34m,\u001b[0m \u001b[0mIterator\u001b[0m\u001b[0;34m)\u001b[0m\u001b[0;34m\u001b[0m\u001b[0m\n\u001b[0m\u001b[1;32m      2\u001b[0m \u001b[0misinstance\u001b[0m\u001b[0;34m(\u001b[0m\u001b[0miter\u001b[0m\u001b[0;34m(\u001b[0m\u001b[0;34m'abc'\u001b[0m\u001b[0;34m)\u001b[0m\u001b[0;34m,\u001b[0m \u001b[0mIterator\u001b[0m\u001b[0;34m)\u001b[0m\u001b[0;34m\u001b[0m\u001b[0m\n",
      "\u001b[0;31mNameError\u001b[0m: name 'Iterator' is not defined"
     ]
    }
   ],
   "source": [
    "isinstance(iter([]), Iterator)\n",
    "isinstance(iter('abc'), Iterator)"
   ]
  },
  {
   "cell_type": "markdown",
   "metadata": {},
   "source": [
    "- 凡是可作用于for循环的对象都是Iterable类型；\n",
    "- 凡是可作用于next()函数的对象都是Iterator类型，它们表示一个惰性计算的序列；\n",
    "- 集合数据类型如list、dict、str等是Iterable但不是Iterator，不过可以通过iter()函数获得一个Iterator对象。\n",
    "- Pythonfor循环本质上就是通过不断调用next()函数实现的"
   ]
  },
  {
   "cell_type": "markdown",
   "metadata": {},
   "source": [
    "## 函数式编程\n",
    "### 高阶函数\n",
    "\n",
    "1. 变量可以指向函数\n",
    "函数本身也可以赋值给变量，即：变量可以指向函数\n",
    "2. 函数名也是变量: 函数名其实就是指向函数的变量\n",
    "3. 传入函数: 既然变量可以指向函数，函数的参数能接收变量，那么一个函数就可以接收另一个函数作为参数，这种函数就称之为高阶函数。\n",
    "\n",
    "#### map/reduce\n",
    "`map()`传入的第一个参数是f，即函数对象本身。由于结果r是一个`Iterator`，`Iterator`是惰性序列，因此通过`list()`函数让它把整个序列都计算出来并返回一个`list`。"
   ]
  },
  {
   "cell_type": "code",
   "execution_count": 39,
   "metadata": {},
   "outputs": [
    {
     "data": {
      "text/plain": [
       "['1', '2', '3', '4', '5', '6', '7', '8', '9']"
      ]
     },
     "execution_count": 39,
     "metadata": {},
     "output_type": "execute_result"
    }
   ],
   "source": [
    "list(map(str, [1, 2, 3, 4, 5, 6, 7, 8, 9]))"
   ]
  },
  {
   "cell_type": "markdown",
   "metadata": {},
   "source": [
    "`reduce`把一个函数作用在一个序列`[x1, x2, x3, ...]`上，这个函数必须接收两个参数，`reduce`把结果继续和序列的下一个元素做累积计算，其效果就是："
   ]
  },
  {
   "cell_type": "code",
   "execution_count": 43,
   "metadata": {},
   "outputs": [
    {
     "data": {
      "text/plain": [
       "25"
      ]
     },
     "execution_count": 43,
     "metadata": {},
     "output_type": "execute_result"
    }
   ],
   "source": [
    "from functools import reduce\n",
    "def add(x, y):\n",
    "    return x + y\n",
    "reduce(add, [1, 3, 5, 7, 9])"
   ]
  },
  {
   "cell_type": "markdown",
   "metadata": {},
   "source": [
    "#### filter\n",
    "filter()把传入的函数依次作用于每个元素，然后根据返回值是True还是False决定保留还是丢弃该元素。"
   ]
  },
  {
   "cell_type": "code",
   "execution_count": 44,
   "metadata": {},
   "outputs": [
    {
     "data": {
      "text/plain": [
       "[1, 5, 9, 15]"
      ]
     },
     "execution_count": 44,
     "metadata": {},
     "output_type": "execute_result"
    }
   ],
   "source": [
    "def is_odd(n):\n",
    "    return n % 2 == 1\n",
    "\n",
    "list(filter(is_odd, [1, 2, 4, 5, 6, 9, 10, 15]))"
   ]
  },
  {
   "cell_type": "markdown",
   "metadata": {},
   "source": [
    "#### sorted\n",
    "sorted()函数也是一个高阶函数，它还可以接收一个key函数来实现自定义的排序，例如按绝对值大小排序："
   ]
  },
  {
   "cell_type": "code",
   "execution_count": 46,
   "metadata": {},
   "outputs": [
    {
     "data": {
      "text/plain": [
       "[5, 9, -12, -21, 36]"
      ]
     },
     "execution_count": 46,
     "metadata": {},
     "output_type": "execute_result"
    }
   ],
   "source": [
    "sorted([36, 5, -12, 9, -21], key=abs)"
   ]
  },
  {
   "cell_type": "markdown",
   "metadata": {},
   "source": [
    "### 返回函数\n",
    "#### 函数作为返回值\n",
    "高阶函数除了可以接受函数作为参数外，还可以把函数作为结果值返回。\n",
    "#### 闭包\n",
    "注意到返回的函数在其定义内部引用了局部变量args，所以，当一个函数返回了一个函数后，其内部的局部变量还被新函数引用，所以，闭包用起来简单，实现起来可不容易。\n",
    "\n",
    "### 匿名函数"
   ]
  },
  {
   "cell_type": "code",
   "execution_count": 47,
   "metadata": {},
   "outputs": [
    {
     "data": {
      "text/plain": [
       "[1, 4, 9, 16, 25, 36, 49, 64, 81]"
      ]
     },
     "execution_count": 47,
     "metadata": {},
     "output_type": "execute_result"
    }
   ],
   "source": [
    "list(map(lambda x: x * x, [1, 2, 3, 4, 5, 6, 7, 8, 9]))"
   ]
  },
  {
   "cell_type": "markdown",
   "metadata": {},
   "source": [
    "### 装饰器\n",
    "由于函数也是一个对象，而且函数对象可以被赋值给变量，所以，通过变量也能调用该函数。\n",
    "质上，decorator就是一个返回函数的高阶函数。所以，我们要定义一个能打印日志的decorator.\n",
    "### 偏函数\n",
    "Python的functools模块提供了很多有用的功能，其中一个就是偏函数（Partial function）。要注意，这里的偏函数和数学意义上的偏函数不一样。当函数的参数个数太多，需要简化时，使用functools.partial可以创建一个新的函数，这个新函数可以固定住原函数的部分参数，从而在调用时更简单。\n",
    "## 模块\n",
    "模块是一组Python代码的集合，可以使用其他模块，也可以被其他模块使用。\n",
    "创建自己的模块时，要注意：\n",
    "\n",
    "- 模块名要遵循Python变量命名规范，不要使用中文、特殊字符；\n",
    "- 模块名不要和系统模块名冲突，最好先查看系统是否已存在该模块，检查方法是在Python交互环境执行import abc，若成功则说明系统存在此模块。\n",
    "\n",
    "### 使用\n",
    "就是导入该模块，`import os`\n",
    "\n",
    "## 面向对象编程\n",
    "面向对象编程——Object Oriented Programming，简称OOP，是一种程序设计思想。OOP把对象作为程序的基本单元，一个对象包含了数据和操作数据的函数。\n",
    "\n",
    "- 面向过程的程序设计把计算机程序视为一系列的命令集合，即一组函数的顺序执行。为了简化程序设计，面向过程把函数继续切分为子函数，即把大块函数通过切割成小块函数来降低系统的复杂度。\n",
    "- 而面向对象的程序设计把计算机程序视为一组对象的集合，而每个对象都可以接收其他对象发过来的消息，并处理这些消息，计算机程序的执行就是一系列消息在各个对象之间传递。\n",
    "\n",
    "### 类和实例\n",
    "面向对象最重要的概念就是类（Class）和实例（Instance），必须牢记类是抽象的模板，比如Student类，而实例是根据类创建出来的一个个具体的“对象”，每个对象都拥有相同的方法，但各自的数据可能不同。\n",
    "### 数据封装\n",
    "面向对象编程的一个重要特点就是数据封装。"
   ]
  },
  {
   "cell_type": "code",
   "execution_count": null,
   "metadata": {},
   "outputs": [],
   "source": []
  }
 ],
 "metadata": {
  "kernelspec": {
   "display_name": "Python 3",
   "language": "python",
   "name": "python3"
  }
 },
 "nbformat": 4,
 "nbformat_minor": 2
}
