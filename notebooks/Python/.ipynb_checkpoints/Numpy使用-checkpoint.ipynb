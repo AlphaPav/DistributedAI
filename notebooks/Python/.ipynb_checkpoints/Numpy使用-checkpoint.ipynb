{
 "cells": [
  {
   "cell_type": "markdown",
   "metadata": {},
   "source": [
    "# Numpy教程\n",
    "Python中用于科学计算的核心库。`numpy（Numerical Python）`提供了python对**多维数组对象**的支持：`ndarray`，具有矢量运算能力，快速、节省空间。numpy支持高级大量的维度数组与矩阵运算，此外也针对数组运算提供大量的数学函数库。\n",
    "# 基础篇\n",
    "NumPy的主要对象是同种元素的多维数组。这是一个所有的元素都是一种类型、通过一个正整数元组索引的元素表格(通常是元素是数字)。在NumPy中维度(dimensions)叫做轴(axes)，轴的个数叫做秩(rank)。\n",
    "NumPy的数组类被称作 ndarray 。通常被称作数组。注意numpy.array和标准Python库类array.array并不相同，后者只处理一维数组和提供少量功能。更多重要ndarray对象属性有：\n",
    "\n",
    "- ndarray.ndim\n",
    "数组轴的个数，在python的世界中，轴的个数被称作秩\n",
    "- ndarray.shape\n",
    "数组的维度。这是一个指示数组在每个维度上大小的整数元组。例如一个n排m列的矩阵，它的shape属性将是(n,m),这个元组的长度显然是秩，即维度或者ndim属性\n",
    "- ndarray.size\n",
    "数组元素的总个数，等于shape属性中元组元素的乘积。\n",
    "- ndarray.dtype\n",
    "一个用来描述数组中元素类型的对象，可以通过创造或指定dtype使用标准Python类型。另外NumPy提供它自己的数据类型。\n",
    "- ndarray.itemsize\n",
    "数组中每个元素的字节大小。例如，一个元素类型为float64的数组itemsiz属性值为8(=64/8),又如，一个元素类型为complex32的数组item属性为4(=32/8).\n",
    "- ndarray.data\n",
    "包含实际数组元素的缓冲区，通常我们不需要使用这个属性，因为我们总是通过索引来使用数组中的元素。\n",
    "\n",
    "## 一个例子："
   ]
  },
  {
   "cell_type": "code",
   "execution_count": 15,
   "metadata": {},
   "outputs": [
    {
     "name": "stdout",
     "output_type": "stream",
     "text": [
      "[[ 0  1  2  3  4]\n",
      " [ 5  6  7  8  9]\n",
      " [10 11 12 13 14]]\n",
      "<class 'numpy.ndarray'>\n",
      "a.ndim 2\n",
      "a.shape (3, 5)\n",
      "a.size 15\n",
      "a.dtype int64\n",
      "a.itemsize 8\n",
      "a.data <memory at 0x7f1a641e17e0>\n"
     ]
    }
   ],
   "source": [
    "from numpy import *\n",
    "a = arange(15).reshape(3, 5)\n",
    "print(a)\n",
    "print(type(a))\n",
    "print('a.ndim',a.ndim)\n",
    "print('a.shape', a.shape)\n",
    "print('a.size', a.size)\n",
    "print('a.dtype', a.dtype)\n",
    "print('a.itemsize', a.itemsize)\n",
    "print('a.data',a.data)"
   ]
  },
  {
   "cell_type": "markdown",
   "metadata": {},
   "source": [
    "## 创建数组\n",
    "  \n",
    "### 使用 array 函数\n",
    "使用 array 函数从常规的Python列表和元组创造数组。所创建的数组类型由原序列中的元素类型推导而来。"
   ]
  },
  {
   "cell_type": "code",
   "execution_count": 23,
   "metadata": {},
   "outputs": [
    {
     "name": "stdout",
     "output_type": "stream",
     "text": [
      "a [[ 1  2  3  4]\n",
      " [ 5  6  7  8]\n",
      " [10  2  3  4]]\n",
      "b [ 1.2  3.5  5.1]\n",
      "c: [[1 2 3 4]\n",
      " [4 5 6 7]]\n",
      "d [ 1.+0.j  2.+0.j  3.+0.j  4.+0.j]\n"
     ]
    }
   ],
   "source": [
    "#from numpy  import * # 申明为*，不需要前缀\n",
    "import numpy as np\n",
    "a = np.array([[1, 2, 3, 4],[5, 6,7,8],[10, 2, 3,4]])\n",
    "b = array([1.2, 3.5, 5.1])\n",
    "print('a',a)\n",
    "print('b',b)\n",
    "# 一个常见的错误包括用多个数值参数调用array而不是提供一个由数值组成的列表作为一个参数。 c = array(1, 2, 3, 4) wrong\n",
    "# 数组将序列包含序列转化成二维的数组，序列包含序列包含序列转化成三维数组等等。\n",
    "c = array([(1, 2, 3, 4), (4, 5, 6, 7)])\n",
    "print('c:',c)\n",
    "# 数组类型可以在创建时显示指定\n",
    "d = array([1, 2, 3, 4], dtype=complex)\n",
    "print('d', d)"
   ]
  },
  {
   "cell_type": "markdown",
   "metadata": {},
   "source": [
    "### 使用占位符创建\n",
    "1. 通常，数组的元素开始都是未知的，但是它的大小已知。因此，NumPy提供了一些使用占位符创建数组的函数。这最小化了扩展数组的需要和高昂的运算代价。\n",
    "2. 函数zero创建一个全是0的数组，函数ones创建一个全1的数组，函数empty创建一个内容随机并且依赖与内存状态的数组。默认创建的数组类型(dtype)都是float64。"
   ]
  },
  {
   "cell_type": "code",
   "execution_count": 27,
   "metadata": {},
   "outputs": [
    {
     "name": "stdout",
     "output_type": "stream",
     "text": [
      "[[ 0.  0.  0.  0.]\n",
      " [ 0.  0.  0.  0.]\n",
      " [ 0.  0.  0.  0.]]\n",
      "[[ 1.  1.  1.  1.]\n",
      " [ 1.  1.  1.  1.]]\n",
      "[[  6.90466352e-310   6.90466352e-310]]\n"
     ]
    }
   ],
   "source": [
    "print(np.zeros((3, 4)))\n",
    "print(np.ones((2, 4)))\n",
    "print(np.empty((1, 2)))"
   ]
  },
  {
   "cell_type": "markdown",
   "metadata": {},
   "source": [
    "### 使用arange 函数\n",
    "为了创建一个数列，NumPy提供一个类似arange的函数返回数组而不是列表:"
   ]
  },
  {
   "cell_type": "code",
   "execution_count": 29,
   "metadata": {},
   "outputs": [
    {
     "name": "stdout",
     "output_type": "stream",
     "text": [
      "[10 15 20 25]\n",
      "[ 0.   0.3  0.6  0.9  1.2  1.5  1.8  2.1  2.4  2.7]\n"
     ]
    }
   ],
   "source": [
    "print(np.arange(10, 30, 5))\n",
    "print(np.arange(0, 3, 0.3))"
   ]
  },
  {
   "cell_type": "markdown",
   "metadata": {},
   "source": [
    "### 使用 lineapce 函数\n",
    "当`arange`使用浮点数参数时，由于有限的浮点数精度，通常无法预测获得的元素个数。因此，最好使用函数`linspace`去接收我们想要的元素个数来代替用`range`来指定步长。"
   ]
  },
  {
   "cell_type": "code",
   "execution_count": 37,
   "metadata": {},
   "outputs": [
    {
     "name": "stdout",
     "output_type": "stream",
     "text": [
      "[ 0.    0.25  0.5   0.75  1.    1.25  1.5   1.75  2.  ]\n",
      "[  0.00000000e+00   6.42787610e-01   9.84807753e-01   8.66025404e-01\n",
      "   3.42020143e-01  -3.42020143e-01  -8.66025404e-01  -9.84807753e-01\n",
      "  -6.42787610e-01  -2.44929360e-16]\n"
     ]
    }
   ],
   "source": [
    "from numpy import pi\n",
    "print(np.linspace(0, 2, 9)) # 9 numbers 0 to 2\n",
    "x = np.linspace(0, 2*pi, 10)\n",
    "f = np.sin(x)\n",
    "print(f)"
   ]
  },
  {
   "cell_type": "markdown",
   "metadata": {},
   "source": [
    "其它函数array, zeros, zeros_like, ones, ones_like, empty, empty_like, arange, linspace, rand, randn, fromfunction, fromfile, 赋值拷贝。\n",
    "## 打印数组\n",
    "当你打印一个数组，NumPy以类似嵌套列表的形式显示它，但是呈以下布局：\n",
    "- 最后的轴从左到右打印\n",
    "- 次后的轴从顶向下打印\n",
    "- 剩下的轴从顶向下打印，每个切片通过一个空行与下一个隔开\n",
    "\n",
    "一维数组被打印成行，二维数组成矩阵，三维数组成矩阵列表。"
   ]
  },
  {
   "cell_type": "code",
   "execution_count": 43,
   "metadata": {},
   "outputs": [
    {
     "name": "stdout",
     "output_type": "stream",
     "text": [
      "[0 1 2 3 4 5]\n",
      "[[ 0  1  2]\n",
      " [ 3  4  5]\n",
      " [ 6  7  8]\n",
      " [ 9 10 11]]\n",
      "[[[ 0  1  2  3]\n",
      "  [ 4  5  6  7]\n",
      "  [ 8  9 10 11]]\n",
      "\n",
      " [[12 13 14 15]\n",
      "  [16 17 18 19]\n",
      "  [20 21 22 23]]]\n",
      "[   0    1    2 ..., 9997 9998 9999]\n"
     ]
    }
   ],
   "source": [
    "a = np.arange(6)# 1d array\n",
    "print(a)\n",
    "b = np.arange(12).reshape(4,3)# 2d array\n",
    "print(b)\n",
    "c = np.arange(24).reshape(2,3,4)# 3d array\n",
    "print(c)\n",
    "# 如果一个数组用来打印太大了，NumPy自动省略中间部分而只打印角落\n",
    "print(np.arange(10000))\n",
    "# 禁用NumPy的这种行为并强制打印整个数组，你可以设置printoptions参数来更改打印选项。\n",
    "print(np.set_printoptions(threshold=np.nan))"
   ]
  },
  {
   "cell_type": "markdown",
   "metadata": {},
   "source": [
    "## 基本运算\n",
    "数组的算术运算是按元素的。新的数组被创建并且被结果填充。NumPy中的乘法运算符 * 指示按元素计算，矩阵乘法可以使用 dot 函数或创建矩阵对象实现。"
   ]
  },
  {
   "cell_type": "code",
   "execution_count": 45,
   "metadata": {},
   "outputs": [
    {
     "name": "stdout",
     "output_type": "stream",
     "text": [
      "b [0 1 2 3]\n",
      "c [1 1 1 1]\n",
      "b**2 [0 1 4 9]\n",
      "10*np.sin(a) [ 8.41470985  9.09297427  1.41120008 -7.56802495]\n",
      "a<35 [ True  True  True  True]\n"
     ]
    }
   ],
   "source": [
    "a = np.array([1, 2, 3, 4])\n",
    "b = np.arange(4)\n",
    "print('b',b)\n",
    "c = a-b\n",
    "print('c',c)\n",
    "print('b**2',b**2)\n",
    "print('10*np.sin(a)',10*np.sin(a))\n",
    "print('a<35',a<35)"
   ]
  },
  {
   "cell_type": "code",
   "execution_count": 46,
   "metadata": {},
   "outputs": [
    {
     "name": "stdout",
     "output_type": "stream",
     "text": [
      "[0 1 2 3 4 5]\n",
      "A*B [[2 0]\n",
      " [0 4]]\n",
      "A.dot(B) [[5 4]\n",
      " [3 4]]\n",
      "np.dot(A, B) [[5 4]\n",
      " [3 4]]\n"
     ]
    }
   ],
   "source": [
    "# NumPy中的乘法运算符*指示按元素计算，矩阵乘法可以使用dot函数或创建矩阵对象实现\n",
    "import numpy\n",
    "print(numpy.arange(6))\n",
    "A = np.array([[1, 1,],\n",
    "           [0, 1]])\n",
    "B = np.array([[2, 0],\n",
    "           [3, 4]])\n",
    "print('A*B',A*B)\n",
    "print('A.dot(B)',A.dot(B))\n",
    "print('np.dot(A, B)',np.dot(A, B))"
   ]
  },
  {
   "cell_type": "code",
   "execution_count": 48,
   "metadata": {},
   "outputs": [
    {
     "name": "stdout",
     "output_type": "stream",
     "text": [
      "[[3 3 3]\n",
      " [3 3 3]]\n",
      "[[ 3.77601215  3.67874255  3.09996677]\n",
      " [ 3.33283587  3.62279173  3.90198359]]\n"
     ]
    }
   ],
   "source": [
    "# 有些操作符像+=和*=被用来更改已存在数组而不创建一个新的数组。\n",
    "a = np.ones((2, 3), dtype=int)\n",
    "b = np.random.random((2, 3))\n",
    "a *= 3\n",
    "print(a)\n",
    "b += a\n",
    "print(b)\n",
    "# print(a += b)"
   ]
  },
  {
   "cell_type": "code",
   "execution_count": 62,
   "metadata": {},
   "outputs": [
    {
     "name": "stdout",
     "output_type": "stream",
     "text": [
      "[1 1 1]\n",
      "float64\n",
      "c [ 1.          2.57079633  4.14159265]\n",
      "c dtype name float64\n",
      "[ 0.54030231+0.84147098j -0.84147098+0.54030231j -0.54030231-0.84147098j]\n",
      "d dtype name complex128\n",
      "e: [[ 0.48800489  0.55796234  0.16459517]\n",
      " [ 0.40017365  0.41096132  0.01136693]]\n",
      "e.sum:2.03306428928 e.max:0.557962337045 e.min:0.0113669291358\n"
     ]
    }
   ],
   "source": [
    "# 当运算的是不同类型的数组时，结果数组靠近更普遍和精确的已知数组(这种行为叫做upcast)。\n",
    "a=np.ones(3, dtype=np.int32)\n",
    "print(a)\n",
    "b = np.linspace(0,pi,3)\n",
    "print(b.dtype.name)\n",
    "c = a+b\n",
    "print('c',c)\n",
    "print('c dtype name',c.dtype.name)\n",
    "d = np.exp(c*1j)\n",
    "print(d)\n",
    "print('d dtype name', d.dtype.name) # 许多非数组运算，如计算数组所有元素之和，被作为ndarray类的方法实现\n",
    "e = np.random.random((2, 3))\n",
    "print('e:',e)\n",
    "print('e.sum:%s e.max:%s e.min:%s'%(e.sum(),e.max(),e.min()))"
   ]
  },
  {
   "cell_type": "code",
   "execution_count": 69,
   "metadata": {},
   "outputs": [
    {
     "name": "stdout",
     "output_type": "stream",
     "text": [
      "b [[ 0  1  2  3]\n",
      " [ 4  5  6  7]\n",
      " [ 8  9 10 11]]\n",
      "b.sum(axis=0): [12 15 18 21]\n",
      "b.sum(axis=1): [ 6 22 38]\n",
      "b.min(axis=0): [0 1 2 3]\n",
      "b.min(axis=1): [0 4 8]\n",
      "b.max(axis=0): [ 8  9 10 11]\n",
      "b.max(axis=1): [ 3  7 11]\n",
      "b.cumsum(axis=0): [[ 0  1  2  3]\n",
      " [ 4  6  8 10]\n",
      " [12 15 18 21]]\n",
      "b.cumsum(axis=1): [[ 0  1  3  6]\n",
      " [ 4  9 15 22]\n",
      " [ 8 17 27 38]]\n"
     ]
    }
   ],
   "source": [
    "# 这些运算默认应用到数组好像它就是一个数字组成的列表，无关数组的形状。然而，指定axis参数你可以吧运算应用到数组指定的轴上：\n",
    "b = np.arange(12).reshape(3, 4)\n",
    "print('b',b)\n",
    "print('b.sum(axis=0):',b.sum(axis=0)) # sum of each column\n",
    "print('b.sum(axis=1):',b.sum(axis=1))# sum of each row\n",
    "print('b.min(axis=0):',b.min(axis=0))\n",
    "print('b.min(axis=1):',b.min(axis=1))\n",
    "print('b.max(axis=0):',b.max(axis=0))\n",
    "print('b.max(axis=1):',b.max(axis=1))\n",
    "print('b.cumsum(axis=0):',b.cumsum(axis=0))\n",
    "print('b.cumsum(axis=1):',b.cumsum(axis=1))"
   ]
  },
  {
   "cell_type": "markdown",
   "metadata": {},
   "source": [
    "## 通用函数(ufunc)\n",
    "NumPy提供常见的数学函数如sin,cos和exp。在NumPy中，这些叫作“通用函数”(ufunc)。在NumPy里这些函数作用**按数组的元素**运算，产生一个数组作为输出。"
   ]
  },
  {
   "cell_type": "code",
   "execution_count": 74,
   "metadata": {},
   "outputs": [
    {
     "name": "stdout",
     "output_type": "stream",
     "text": [
      "[0 1 2]\n",
      "[ 1.          2.71828183  7.3890561 ]\n",
      "[ 0.          1.          1.41421356]\n",
      "[ 2.  0.  6.]\n"
     ]
    }
   ],
   "source": [
    "B = np.arange(3)\n",
    "print(B)\n",
    "print(np.exp(B))\n",
    "print(np.sqrt(B))\n",
    "C = np.array([2., -1., 4.])\n",
    "d = np.add(B, C)\n",
    "print(d)"
   ]
  },
  {
   "cell_type": "markdown",
   "metadata": {},
   "source": [
    "更多函数`all, alltrue, any, apply along axis, argmax, argmin, argsort, average, bincount, ceil, clip, conj, conjugate, corrcoef, cov, cross, cumprod, cumsum, diff, dot, floor, inner, inv, lexsort, max, maximum, mean, median, min, minimum, nonzero, outer, prod, re, round, sometrue, sort, std, sum, trace, transpose, var, vdot, vectorize, where` "
   ]
  },
  {
   "cell_type": "markdown",
   "metadata": {},
   "source": [
    "## 索引，切片和迭代(Indexing, Slicing and Iterating)\n",
    "一维 数组可以被索引、切片和迭代，就像 列表 和其它Python序列。\n",
    "一维数组的索引：与Python的列表索引功能相似"
   ]
  },
  {
   "cell_type": "code",
   "execution_count": 83,
   "metadata": {},
   "outputs": [
    {
     "name": "stdout",
     "output_type": "stream",
     "text": [
      "[ 0  1  4  9 16 25 36 49 64 81]\n",
      "4\n",
      "[ 4  9 16]\n",
      "[-1000     1 -1000     9 -1000    25    36    49    64    81]\n",
      "[   81    64    49    36    25 -1000     9 -1000     1 -1000]\n",
      "nan\n",
      "1.0\n",
      "nan\n",
      "2.08008382305\n",
      "nan\n",
      "2.92401773821\n",
      "3.30192724889\n",
      "3.65930571002\n",
      "4.0\n",
      "4.32674871092\n"
     ]
    },
    {
     "name": "stderr",
     "output_type": "stream",
     "text": [
      "/opt/conda/lib/python3.6/site-packages/ipykernel_launcher.py:9: RuntimeWarning: invalid value encountered in power\n",
      "  if __name__ == '__main__':\n"
     ]
    }
   ],
   "source": [
    "a = np.arange(10)**2\n",
    "print(a)\n",
    "print(a[2])\n",
    "print(a[2:5])\n",
    "a[:6:2]=-1000 # equivalent to a[0:6:2] = -1000; from start to position 6, exclusive, set every 2nd element to -1000\n",
    "print(a)\n",
    "print(a[::-1])#reverse a\n",
    "for i in a:\n",
    "    print(i**(1/3.))"
   ]
  },
  {
   "cell_type": "markdown",
   "metadata": {},
   "source": [
    "多维 数组可以每个轴有一个索引。这些索引由一个逗号分割的元组给出。(二维数组: 纵轴,横轴)\n",
    "多维数组的索引：\n",
    "```\n",
    "arr[r1:r2, c1:c2]\n",
    "arr[1,1] 等价 arr[1][1]\n",
    "[:] 代表某个维度的数据\n",
    "```"
   ]
  },
  {
   "cell_type": "code",
   "execution_count": 92,
   "metadata": {},
   "outputs": [
    {
     "name": "stdout",
     "output_type": "stream",
     "text": [
      "[[ 0  1  2  3]\n",
      " [10 11 12 13]\n",
      " [20 21 22 23]\n",
      " [30 31 32 33]\n",
      " [40 41 42 43]]\n",
      "b[2,3]: 23\n",
      "b[0:5, 1]: [ 1 11 21 31 41]\n",
      "b[:, 1]: [ 1 11 21 31 41]\n",
      "b[1:3, : ]: [[10 11 12 13]\n",
      " [20 21 22 23]]\n",
      "b[-1]: [40 41 42 43]\n"
     ]
    }
   ],
   "source": [
    "def f(x, y):\n",
    "    return 10*x+y\n",
    "b = fromfunction(f, (5, 4), dtype=int32)\n",
    "print(b)\n",
    "print('b[2,3]:',b[2,3])\n",
    "print('b[0:5, 1]:',b[0:5, 1])# each row in the second column of b\n",
    "print('b[:, 1]:',b[:, 1])# equivalent to the previous example\n",
    "print('b[1:3, : ]:',b[1:3, :])# each column in the second and third row of b\n",
    "print('b[-1]:',b[-1])# 当少于轴数的索引被提供时，确失的索引被认为是整个切片：b[-1,:]"
   ]
  },
  {
   "cell_type": "markdown",
   "metadata": {},
   "source": [
    "1. `b[i]`中括号中的表达式被当作i和一系列:，来代表剩下的轴。NumPy也允许你使用“点”像`b[i,...]`。\n",
    "2. dot(…)代表许多产生一个完整的索引元组必要的分号。如果x是秩为5的数组(即它有5个轴)，那么:\n",
    "    1. `x[1,2,…]` 等同于 `x[1,2,:,:,:]`,\n",
    "    2. `x[…,3]` 等同于 `x[:,:,:,:,3]`\n",
    "    3. `x[4,…,5,:]` 等同 `x[4,:,:,5,:]`."
   ]
  },
  {
   "cell_type": "code",
   "execution_count": 95,
   "metadata": {},
   "outputs": [
    {
     "name": "stdout",
     "output_type": "stream",
     "text": [
      "(2, 2, 3)\n",
      "[[100 101 102]\n",
      " [110 111 112]]\n",
      "[[  2  13]\n",
      " [102 112]]\n"
     ]
    }
   ],
   "source": [
    "c = np.array([[[0, 1, 2],\n",
    "               [10, 12, 13]],\n",
    "              [[100, 101, 102],\n",
    "               [110, 111, 112]]])# a 3d array (two stacked 2D array)\n",
    "print(c.shape)\n",
    "print(c[1,...])# same as c[1,:,:] or c[1]\n",
    "print(c[...,2])# same as c[:,:,2]"
   ]
  },
  {
   "cell_type": "code",
   "execution_count": 100,
   "metadata": {},
   "outputs": [
    {
     "name": "stdout",
     "output_type": "stream",
     "text": [
      "[0 1 2 3]\n",
      "[10 11 12 13]\n",
      "[20 21 22 23]\n",
      "[30 31 32 33]\n",
      "[40 41 42 43]\n",
      "[[ 0  1  2]\n",
      " [10 12 13]]\n",
      "[[100 101 102]\n",
      " [110 111 112]]\n",
      "0\n",
      "1\n",
      "2\n",
      "3\n",
      "10\n",
      "11\n",
      "12\n",
      "13\n",
      "20\n",
      "21\n",
      "22\n",
      "23\n",
      "30\n",
      "31\n",
      "32\n",
      "33\n",
      "40\n",
      "41\n",
      "42\n",
      "43\n",
      "0\n",
      "1\n",
      "2\n",
      "10\n",
      "12\n",
      "13\n",
      "100\n",
      "101\n",
      "102\n",
      "110\n",
      "111\n",
      "112\n"
     ]
    }
   ],
   "source": [
    "# 迭代多维数组是就第一个轴而言的:\n",
    "for i in b:\n",
    "    print(i)\n",
    "for i in c:\n",
    "    print(i)\n",
    "# 然而，如果一个人想对每个数组中元素进行运算，我们可以使用flat属性，该属性是数组元素的一个迭代器:\n",
    "for element in b.flat:\n",
    "    print(element)\n",
    "for element in c.flat:\n",
    "    print(element)"
   ]
  },
  {
   "cell_type": "markdown",
   "metadata": {},
   "source": [
    "更多操作 `Indexing, Indexing (reference), newaxis, ndenumerate, indices`"
   ]
  },
  {
   "cell_type": "markdown",
   "metadata": {},
   "source": [
    "## 形状操作（shape manipulation）\n",
    "### 改变数组的形状\n",
    "一个数组的形状由它每个轴上的元素个数给出："
   ]
  },
  {
   "cell_type": "code",
   "execution_count": 121,
   "metadata": {},
   "outputs": [
    {
     "name": "stdout",
     "output_type": "stream",
     "text": [
      "[[ 2.  6.  1.  9.]\n",
      " [ 3.  9.  1.  5.]\n",
      " [ 2.  4.  0.  2.]]\n",
      "(3, 4)\n",
      "a.ravel(): [ 2.  6.  1.  9.  3.  9.  1.  5.  2.  4.  0.  2.]\n",
      "orginal a: [[ 2.  6.  1.  9.]\n",
      " [ 3.  9.  1.  5.]\n",
      " [ 2.  4.  0.  2.]]\n",
      "a.reshape(6, 2): [[ 2.  6.]\n",
      " [ 1.  9.]\n",
      " [ 3.  9.]\n",
      " [ 1.  5.]\n",
      " [ 2.  4.]\n",
      " [ 0.  2.]]\n",
      "orginal a: [[ 2.  6.  1.  9.]\n",
      " [ 3.  9.  1.  5.]\n",
      " [ 2.  4.  0.  2.]]\n",
      "a.T: [[ 2.  3.  2.]\n",
      " [ 6.  9.  4.]\n",
      " [ 1.  1.  0.]\n",
      " [ 9.  5.  2.]]\n",
      "orginal a: [[ 2.  6.  1.  9.]\n",
      " [ 3.  9.  1.  5.]\n",
      " [ 2.  4.  0.  2.]]\n",
      "a.T.shape: (4, 3)\n",
      "a.shape: (3, 4)\n",
      "a.transpose(): [[ 2.  3.  2.]\n",
      " [ 6.  9.  4.]\n",
      " [ 1.  1.  0.]\n",
      " [ 9.  5.  2.]]\n"
     ]
    }
   ],
   "source": [
    "a = np.floor(10*np.random.random((3,4)))\n",
    "print(a)\n",
    "print(a.shape)\n",
    "# 一个数组的形状可以被多种命令修改, 下面三个命令返回的修改后的array,并不是修改原来的array\n",
    "print('a.ravel():',a.ravel()) # return the flatten array\n",
    "print('orginal a:',a)\n",
    "print('a.reshape(6, 2):',a.reshape(6, 2))# returns the array with a modified shape\n",
    "print('orginal a:',a)\n",
    "print('a.T:',a.T)# return the array, transposed\n",
    "print('orginal a:',a)\n",
    "print('a.T.shape:',a.T.shape)\n",
    "print('a.shape:',a.shape)\n",
    "print('a.transpose():',a.transpose())"
   ]
  },
  {
   "cell_type": "markdown",
   "metadata": {},
   "source": [
    "由`ravel()`展平的数组元素的顺序通常是`“C风格”`的，就是说，最右边的索引变化得最快，所以元素`a[0,0]`之后是`a[0,1]`。如果数组被改变形状`(reshape)`成其它形状，数组仍然是“C风格”的。NumPy通常创建一个以这个顺序保存数据的数组，所以`ravel()`将总是不需要复制它的参数。但是如果数组是通过切片其它数组或有不同寻常的选项时，它可能需要被复制。函数`reshape()`和`ravel()`还可以被同过一些可选参数构建成`FORTRAN`风格的数组，即最左边的索引变化最快。\n",
    "\n",
    "`reshape`函数改变参数形状并返回它，而`resize`函数改变数组自身,原本函数。\n",
    "如果在改变形状操作中一个维度被给做-1，其维度将自动被计算"
   ]
  },
  {
   "cell_type": "code",
   "execution_count": 129,
   "metadata": {},
   "outputs": [
    {
     "name": "stdout",
     "output_type": "stream",
     "text": [
      "original a [[ 2.  6.]\n",
      " [ 1.  9.]\n",
      " [ 3.  9.]\n",
      " [ 1.  5.]\n",
      " [ 2.  4.]\n",
      " [ 0.  2.]]\n",
      "b: [[ 2.  6.  1.  9.  3.  9.]\n",
      " [ 1.  5.  2.  4.  0.  2.]]\n",
      "original a: [[ 2.  6.]\n",
      " [ 1.  9.]\n",
      " [ 3.  9.]\n",
      " [ 1.  5.]\n",
      " [ 2.  4.]\n",
      " [ 0.  2.]]\n",
      "[[ 2.  6.]\n",
      " [ 1.  9.]\n",
      " [ 3.  9.]\n",
      " [ 1.  5.]\n",
      " [ 2.  4.]\n",
      " [ 0.  2.]]\n",
      "[[ 2.  6.  1.]\n",
      " [ 9.  3.  9.]\n",
      " [ 1.  5.  2.]\n",
      " [ 4.  0.  2.]]\n"
     ]
    }
   ],
   "source": [
    "print('original a', a)\n",
    "b = a.reshape(2, 6)\n",
    "print('b:',b)\n",
    "print('original a:',a)\n",
    "a.resize((6,2))\n",
    "print(a)\n",
    "print(a.reshape(4, -1))"
   ]
  },
  {
   "cell_type": "markdown",
   "metadata": {},
   "source": [
    "See also\n",
    "ndarray.shape, reshape, resize, ravel"
   ]
  },
  {
   "cell_type": "markdown",
   "metadata": {},
   "source": [
    "### 组合(stack)不同的数组\n",
    "几种方法可以沿不同轴将数组堆叠在一起"
   ]
  },
  {
   "cell_type": "code",
   "execution_count": 139,
   "metadata": {},
   "outputs": [
    {
     "name": "stdout",
     "output_type": "stream",
     "text": [
      "original a: [[ 4.  3.]\n",
      " [ 4.  5.]]\n",
      "original b: [[ 0.  0.]\n",
      " [ 0.  0.]]\n",
      "[[ 4.  3.]\n",
      " [ 4.  5.]\n",
      " [ 0.  0.]\n",
      " [ 0.  0.]]\n",
      "[[ 4.  3.  0.  0.]\n",
      " [ 4.  5.  0.  0.]]\n"
     ]
    }
   ],
   "source": [
    "a = np.floor(10*np.random.random((2, 2)))\n",
    "print('original a:',a)\n",
    "b = np.floor(1*np.random.random((2,2)))\n",
    "print('original b:', b)\n",
    "\n",
    "# stack two arraies on vertical row_stack函数，另一方面，将一维数组以行组合成二维数组。\n",
    "print(np.vstack((a, b)))\n",
    "#stack two arraies on horizon \n",
    "# 对那些维度比二维更高的数组，hstack沿着第二个轴组合，vstack沿着第一个轴组合,concatenate允许可选参数给出组合时沿着的轴。\n",
    "print(np.hstack((a, b)))"
   ]
  },
  {
   "cell_type": "code",
   "execution_count": 150,
   "metadata": {},
   "outputs": [
    {
     "name": "stdout",
     "output_type": "stream",
     "text": [
      "np.column_stack((a, b)): [[ 2.  3.]\n",
      " [ 4.  8.]]\n",
      "np.hstack((a, b)): [ 2.  4.  3.  8.]\n",
      "np.vstack((a, b)): [[ 2.  4.]\n",
      " [ 3.  8.]]\n",
      "a[:, newaxis]: [[ 2.]\n",
      " [ 4.]]\n",
      "np.column_stack((a[:,newaxis],b[:,newaxis])): [[ 2.  3.]\n",
      " [ 4.  8.]]\n",
      "[[ 2.  3.]\n",
      " [ 4.  8.]]\n"
     ]
    }
   ],
   "source": [
    "# 函数column_stack以列将一维数组合成二维数组，它等同与vstack对一维数组。\n",
    "#print(np.column_stack((a, b))) # with 2D arrays\n",
    "a = np.array([2., 4.])\n",
    "b = np.array([3., 8.])\n",
    "print('np.column_stack((a, b)):',np.column_stack((a, b))) # return with 2D arrays 二维数组 一列列合并 旧列作为新行\n",
    "print('np.hstack((a, b)):',np.hstack((a, b))) # return a different result 行合并\n",
    "print('np.vstack((a, b)):',np.vstack((a, b)))# return a different array 列合并 \n",
    "print('a[:, newaxis]:',a[:,newaxis]) # 允许生成2维数组\n",
    "print('np.column_stack((a[:,newaxis],b[:,newaxis])):',np.column_stack((a[:,newaxis],b[:,newaxis])))\n",
    "print(np.hstack((a[:,newaxis], b[:,newaxis])))# result is same"
   ]
  },
  {
   "cell_type": "code",
   "execution_count": 157,
   "metadata": {},
   "outputs": [
    {
     "name": "stdout",
     "output_type": "stream",
     "text": [
      "[1 2 3 0 4]\n"
     ]
    }
   ],
   "source": [
    "# Note\n",
    "# 在复杂情况下，r_[]和c_[]对创建沿着一个方向组合的数很有用，它们允许范围符号(“:”):\n",
    "# 当使用数组作为参数时，r_和c_的默认行为和vstack和hstack很像，但是允许可选的参数给出组合所沿着的轴的代号。\n",
    "print(np.r_[1:4,0,4])"
   ]
  },
  {
   "cell_type": "markdown",
   "metadata": {},
   "source": [
    "### 将一个数组分割(split)成几个小数组\n",
    "使用`hsplit`你能将数组沿着它的水平轴分割，或者指定返回相同形状数组的个数，或者指定在哪些列后发生分割:"
   ]
  },
  {
   "cell_type": "code",
   "execution_count": 162,
   "metadata": {},
   "outputs": [
    {
     "name": "stdout",
     "output_type": "stream",
     "text": [
      "[[ 4.  9.  3.  1.  3.  6.  7.  6.  4.  3.  2.  8.]\n",
      " [ 4.  0.  2.  1.  0.  1.  1.  7.  8.  1.  8.  4.]]\n",
      "[array([[ 4.,  9.,  3.,  1.],\n",
      "       [ 4.,  0.,  2.,  1.]]), array([[ 3.,  6.,  7.,  6.],\n",
      "       [ 0.,  1.,  1.,  7.]]), array([[ 4.,  3.,  2.,  8.],\n",
      "       [ 8.,  1.,  8.,  4.]])]\n",
      "[array([[ 4.,  9.,  3.],\n",
      "       [ 4.,  0.,  2.]]), array([[ 1.],\n",
      "       [ 1.]]), array([[ 3.,  6.,  7.,  6.,  4.,  3.,  2.,  8.],\n",
      "       [ 0.,  1.,  1.,  7.,  8.,  1.,  8.,  4.]])]\n"
     ]
    }
   ],
   "source": [
    "a=np.floor(10*np.random.random((2, 12)))\n",
    "print(a)\n",
    "print(np.hsplit(a, 3))  # Split a into 3\n",
    "print(np.hsplit(a, (3, 4)))# Split a after the third and the fourth column\n",
    "# vsplit沿着纵向的轴分割，array split允许指定沿哪个轴分割。"
   ]
  },
  {
   "cell_type": "markdown",
   "metadata": {},
   "source": [
    "## 复制与视图（Copies and Views）\n",
    "当运算和处理数组时，它们的数据有时被拷贝到新的数组有时不是。这通常是新手的困惑之源。这有三种情况:\n",
    "### 完全不拷贝\n",
    "简单的赋值不拷贝数组对象或它们的数据。"
   ]
  },
  {
   "cell_type": "code",
   "execution_count": 166,
   "metadata": {},
   "outputs": [
    {
     "name": "stdout",
     "output_type": "stream",
     "text": [
      "True\n",
      "(3, 4)\n",
      "139751323982384\n",
      "139751323982384\n",
      "None\n"
     ]
    }
   ],
   "source": [
    "a = np.arange(12)\n",
    "b = a # no new object is created\n",
    "print(b is a) # a and b are two names for the same ndarray object\n",
    "b.shape = 3,4\n",
    "print(a.shape)\n",
    "# Python 传递不定对象作为参考，所以函数调用不拷贝数组。\n",
    "def f(x):\n",
    "    print(id(x))\n",
    "print(id(a)) # id is a unique identifier of an object\n",
    "print(f(a))"
   ]
  },
  {
   "cell_type": "markdown",
   "metadata": {},
   "source": [
    "### 视图(view)和浅复制\n",
    "不同的数组对象分享同一个数据。视图方法`view()`**创造一个新的数组对象**指向同一数据。"
   ]
  },
  {
   "cell_type": "code",
   "execution_count": 175,
   "metadata": {},
   "outputs": [
    {
     "name": "stdout",
     "output_type": "stream",
     "text": [
      "[[   0    1    2    3]\n",
      " [1234    5    6    7]\n",
      " [   8    9   10   11]]\n",
      "c: [[   0    1    2    3]\n",
      " [1234    5    6    7]\n",
      " [   8    9   10   11]]\n",
      "c is a: False\n",
      "c.base is a: True\n",
      "c.flags.owndata: False\n",
      "a.flags.owndata: False\n",
      "(2, 6)\n",
      "(3, 4)\n",
      "c: [[   0    1    2    3 1234    5]\n",
      " [   6    7    8    9   10   11]]\n",
      "a: [[   0    1    2    3]\n",
      " [1234    5    6    7]\n",
      " [   8    9   10   11]]\n"
     ]
    }
   ],
   "source": [
    "print(a)\n",
    "c = a.view()\n",
    "print('c:',c)\n",
    "print('c is a:',c is a)\n",
    "print('c.base is a:',c.base is a) # c is a view of the data owned by a\n",
    "print('c.flags.owndata:',c.flags.owndata)\n",
    "print('a.flags.owndata:',c.flags.owndata)\n",
    "c.shape=2,6\n",
    "print(c.shape)\n",
    "print(a.shape)\n",
    "c[0,4] = 1234\n",
    "print('c:',c)\n",
    "print('a:',a)"
   ]
  },
  {
   "cell_type": "code",
   "execution_count": 181,
   "metadata": {},
   "outputs": [
    {
     "name": "stdout",
     "output_type": "stream",
     "text": [
      "[[10 10]\n",
      " [10 10]\n",
      " [10 10]]\n",
      "[[10 10]\n",
      " [10 10]\n",
      " [10 10]]\n",
      "[[10 10 10  3]\n",
      " [10 10 10  7]\n",
      " [10 10 10 11]]\n"
     ]
    }
   ],
   "source": [
    "# 切片数组返回它的一个视图：\n",
    "s = a[:, 1:3]# spaces add for clarity; could be also wirtten as \"s=[:,1:3]\"\n",
    "print(s)\n",
    "s[:]=10 # s[:] is a view of s. Note the difference between s=10 and s[:]=10\n",
    "print(s)\n",
    "print(a)"
   ]
  },
  {
   "cell_type": "markdown",
   "metadata": {},
   "source": [
    "### 深复制(deep copy)\n",
    "这个复制方法完全复制**数组和它的数据**。"
   ]
  },
  {
   "cell_type": "code",
   "execution_count": 183,
   "metadata": {},
   "outputs": [
    {
     "name": "stdout",
     "output_type": "stream",
     "text": [
      "[[10 10 10  3]\n",
      " [10 10 10  7]\n",
      " [10 10 10 11]]\n",
      "[[10 10 10  3]\n",
      " [10 10 10  7]\n",
      " [10 10 10 11]]\n",
      "False\n",
      "False\n",
      "[[999  10  10   3]\n",
      " [ 10  10  10   7]\n",
      " [ 10  10  10  11]]\n",
      "[[10 10 10  3]\n",
      " [10 10 10  7]\n",
      " [10 10 10 11]]\n"
     ]
    }
   ],
   "source": [
    "print(a)\n",
    "d = a.copy() # a new array object created\n",
    "print(d)\n",
    "print(d is a)\n",
    "print(d.base is a)\n",
    "d[0, 0] = 999\n",
    "print(d)\n",
    "print(a)"
   ]
  },
  {
   "cell_type": "markdown",
   "metadata": {},
   "source": [
    "## 函数和方法(method)总览\n",
    "这是个NumPy函数和方法分类排列目录。这些名字链接到[NumPy示例](https://docs.scipy.org/doc/numpy/reference/routines.html#routines),你可以看到这些函数起作用"
   ]
  },
  {
   "cell_type": "markdown",
   "metadata": {},
   "source": [
    "- 创建数组\n",
    "\n",
    "`arange, array, copy, empty, empty_like, eye, fromfile, fromfunction, identity, linspace, logspace, mgrid, ogrid, ones, ones_like, r, zeros, zeros_like`\n",
    "- 转化\n",
    "\n",
    "`ndarray.astype, atleast_1d, atleast_2d, atleast_3d, mat`\n",
    "- 操作\n",
    "\n",
    "`array_split, column_stack, concatenate, diagonal, dsplit, dstack, hsplit, hstack, ndarray.item, newaxis, ravel, repeat, reshape, resize, squeeze, swapaxes, take, transpose, vsplit, vstack`\n",
    "- 询问\n",
    "\n",
    "`all, any, nonzero, where`\n",
    "- 排序\n",
    "\n",
    "`argmax, argmin, argsort, max, min, ptp, searchsorted, sort`\n",
    "- 运算\n",
    "\n",
    "`choose, compress, cumprod, cumsum, inner, fill, imag, prod, put, putmask, real, sum`\n",
    "- 基本统计\n",
    "\n",
    "`cov, mean, std, var`\n",
    "- 基本线性代数\n",
    "\n",
    "`cross, dot, outer, svd, vdot`"
   ]
  },
  {
   "cell_type": "markdown",
   "metadata": {},
   "source": [
    "# 进阶\n",
    "## 广播法则(rule)\n",
    "\n",
    "- 广播法则能使通用函数有意义地处理不具有相同形状的输入。\n",
    "- 广播第一法则是，如果所有的输入数组维度不都相同，一个**“1”**将被重复地添加在维度较小的数组上直至所有的数组拥有一样的维度。\n",
    "- 广播第二法则确定长度为1的数组沿着特殊的方向表现地好像它有沿着那个方向最大形状的大小。对数组来说，沿着那个维度的数组元素的值理应相同。\n",
    "- 应用广播法则之后，所有数组的大小必须匹配。[更多网址](https://docs.scipy.org/doc/numpy/user/basics.broadcasting.html)\n",
    " \n",
    "We will add the vector v to each row of the matrix x,\n",
    "storing the result in the matrix y\n",
    "\n",
    "对两个数组使用广播机制要遵守下列规则：\n",
    "\n",
    "1. 如果数组的秩不同，使用1来将秩较小的数组进行扩展，直到两个数组的尺寸的长度都一样。\n",
    "2. 如果两个数组在某个维度上的长度是一样的，或者其中一个数组在该维度上长度为1，那么我们就说这两个数组在该维度上是相容的。\n",
    "3. 如果两个数组在所有维度上都是相容的，他们就能使用广播。\n",
    "4. 如果两个输入数组的尺寸不同，那么注意其中较大的那个尺寸。因为广播之后，两个数组的尺寸将和那个较大的尺寸一样。\n",
    "5. 在任何一个维度上，如果一个数组的长度为1，另一个数组长度大于1，那么在该维度上，就好像是对第一个数组进行了复制\n",
    "\n",
    "## 花哨的索引和索引技巧\n",
    "NumPy比普通Python序列提供更多的索引功能。除了索引整数和切片，正如我们之前看到的，数组可以被整数数组和布尔数组索引。\n",
    "### 通过数组索引"
   ]
  },
  {
   "cell_type": "code",
   "execution_count": 188,
   "metadata": {},
   "outputs": [
    {
     "name": "stdout",
     "output_type": "stream",
     "text": [
      "a: [  0   1   4   9  16  25  36  49  64  81 100 121]\n",
      "[ 1  1  9 49 64]\n",
      "[[ 9 25]\n",
      " [49 81]]\n"
     ]
    }
   ],
   "source": [
    "a = np.arange(12)**2\n",
    "print('a:',a)\n",
    "i = np.array([1, 1, 3, 7, 8])\n",
    "print(a[i]) # the elements of a at the positions i\n",
    "j = np.array([[3, 5],[7, 9]]) # a bidimensional array of indices\n",
    "print(a[j]) # the same shape as j "
   ]
  },
  {
   "cell_type": "code",
   "execution_count": 190,
   "metadata": {},
   "outputs": [
    {
     "data": {
      "text/plain": [
       "array([[[   0,    0,    0],\n",
       "        [ 255,    0,    0],\n",
       "        [   0,  255,    0],\n",
       "        [   0,    0,    0]],\n",
       "\n",
       "       [[   0,    0,    0],\n",
       "        [   0,    0,  255],\n",
       "        [ 255,  255, 2555],\n",
       "        [   0,    0,    0]]])"
      ]
     },
     "execution_count": 190,
     "metadata": {},
     "output_type": "execute_result"
    }
   ],
   "source": [
    "# 当被索引数组a是多维的时，每一个唯一的索引数列指向a的第一维。以下示例通过将图片标签用调色版转换成色彩图像展示了这种行为。\n",
    "palette = np.array([[0,0,0], #black\n",
    "                   [255,0,0],#red\n",
    "                   [0, 255, 0],#green\n",
    "                   [0,0,255], # blue\n",
    "                   [255,255, 2555]#white\n",
    "                  ])\n",
    "image = np.array([[0, 1, 2, 0],\n",
    "                 [0, 3, 4, 0]]) # each value corresponds to a color in the palette\n",
    "print(palette[image])  # the color(2, 4, 3) color image"
   ]
  },
  {
   "cell_type": "code",
   "execution_count": 194,
   "metadata": {},
   "outputs": [
    {
     "name": "stdout",
     "output_type": "stream",
     "text": [
      "[[ 0  1  2  3]\n",
      " [ 4  5  6  7]\n",
      " [ 8  9 10 11]]\n",
      "a[i,j]: [[ 2  5]\n",
      " [ 7 11]]\n",
      "a[i,2]: [[ 2  6]\n",
      " [ 6 10]]\n",
      "a[:,j]: [[[ 2  1]\n",
      "  [ 3  3]]\n",
      "\n",
      " [[ 6  5]\n",
      "  [ 7  7]]\n",
      "\n",
      " [[10  9]\n",
      "  [11 11]]]\n"
     ]
    }
   ],
   "source": [
    "# 我们也可以给出不不止一维的索引，每一维的索引数组必须有相同的形状。\n",
    "a = np.arange(12).reshape(3, 4)\n",
    "print(a)\n",
    "i = np.array([[0, 1],\n",
    "              [1, 2]])\n",
    "j = np.array([[2, 1],\n",
    "              [3, 3]])\n",
    "print('a[i,j]:',a[i,j])\n",
    "print('a[i,2]:',a[i,2])\n",
    "print('a[:,j]:',a[:,j])"
   ]
  },
  {
   "cell_type": "code",
   "execution_count": 196,
   "metadata": {},
   "outputs": [
    {
     "name": "stdout",
     "output_type": "stream",
     "text": [
      "[array([[0, 1],\n",
      "       [1, 2]]), array([[2, 1],\n",
      "       [3, 3]])]\n"
     ]
    }
   ],
   "source": [
    "# 自然，我们可以把i和j放到序列中(比如说列表)然后通过list索引。\n",
    "l = [i,j]\n",
    "print(l)\n",
    "# 然而，我们不能把i和j放在一个数组中，因为这个数组将被解释成索引a的第一维。\n",
    "s = array( [i,j] ) # not we want\n",
    "a[s]"
   ]
  },
  {
   "cell_type": "code",
   "execution_count": 202,
   "metadata": {},
   "outputs": [
    {
     "name": "stdout",
     "output_type": "stream",
     "text": [
      "[  20.     51.25   82.5   113.75  145.  ]\n",
      "[[ 0.          0.84147098  0.90929743  0.14112001]\n",
      " [-0.7568025  -0.95892427 -0.2794155   0.6569866 ]\n",
      " [ 0.98935825  0.41211849 -0.54402111 -0.99999021]\n",
      " [-0.53657292  0.42016704  0.99060736  0.65028784]\n",
      " [-0.28790332 -0.96139749 -0.75098725  0.14987721]]\n",
      "[2 0 3 1]\n",
      "[  82.5    20.    113.75   51.25]\n",
      "[ 0.98935825  0.84147098  0.99060736  0.6569866 ]\n",
      "True\n"
     ]
    }
   ],
   "source": [
    "# 另一个常用的数组索引用法是搜索时间序列最大值\n",
    "time = np.linspace(20, 145, 5)                 # time scale\n",
    "data = np.sin(arange(20)).reshape(5,4)         # 4 time-dependent series\n",
    "print(time)\n",
    "print(data)\n",
    "ind = data.argmax(axis=0)                  # index of the maxima for each series\n",
    "print(ind)\n",
    "time_max = time[ind]                       # times corresponding to the maxima\n",
    "print(time_max)\n",
    "data_max = data[ind, range(data.shape[1])] # => data[ind[0],0], data[ind[1],1]...\n",
    "print(data_max)\n",
    "print(np.all(data_max == data.max(axis=0)))"
   ]
  },
  {
   "cell_type": "code",
   "execution_count": 209,
   "metadata": {},
   "outputs": [
    {
     "name": "stdout",
     "output_type": "stream",
     "text": [
      "[0 1 2 3 4]\n",
      "[0 0 2 0 0]\n",
      "[2 1 3 3 4]\n",
      "[1 1 3 3 4]\n"
     ]
    }
   ],
   "source": [
    "# 你也可以使用数组索引作为目标来赋值：\n",
    "a = np.arange(5)\n",
    "print(a)\n",
    "a[[1,3,4]] = 0\n",
    "print(a)\n",
    "# 然而，当一个索引列表包含重复时，赋值被多次完成，保留最后的值：\n",
    "a = np.arange(5)\n",
    "a[[0,0,2]]=[1,2,3]\n",
    "print(a)\n",
    "# 这足够合理，但是小心如果你想用Python的+=结构，可能结果并非你所期望：\n",
    "a = np.arange(5)\n",
    "a[[0,0,2]]+=1\n",
    "print(a)\n",
    "# 即使0在索引列表中出现两次，索引为0的元素仅仅增加一次。这是因为Python要求a+=1和a=a+1等同。"
   ]
  },
  {
   "cell_type": "markdown",
   "metadata": {},
   "source": [
    "### 通过布尔数组索引\n",
    "当我们使用整数数组索引数组时，我们提供一个索引列表去选择。通过布尔数组索引的方法是不同的我们显式地选择数组中我们想要和不想要的元素。\n",
    "\n",
    "我们能想到的使用布尔数组的索引最自然方式就是使用和原数组一样形状的布尔数组。"
   ]
  },
  {
   "cell_type": "code",
   "execution_count": 212,
   "metadata": {},
   "outputs": [
    {
     "name": "stdout",
     "output_type": "stream",
     "text": [
      "[[False False False False]\n",
      " [False  True  True  True]\n",
      " [ True  True  True  True]]\n",
      "[ 5  6  7  8  9 10 11]\n",
      "[[0 1 2 3]\n",
      " [4 0 0 0]\n",
      " [0 0 0 0]]\n"
     ]
    }
   ],
   "source": [
    "a = np.arange(12).reshape(3, 4)\n",
    "b = a > 4\n",
    "print(b) # b is a boolean with a's shape\n",
    "print(a[b]) # 1d array with the selected elements\n",
    "# 这个属性在赋值时非常有用：\n",
    "a[b] = 0                                   # All elements of 'a' higher than 4 become 0\n",
    "print(a)"
   ]
  },
  {
   "cell_type": "code",
   "execution_count": 214,
   "metadata": {},
   "outputs": [
    {
     "data": {
      "image/png": "[encoded data removed]",
      "text/plain": [
       "<matplotlib.figure.Figure at 0x7f1a640996a0>"
      ]
     },
     "metadata": {},
     "output_type": "display_data"
    }
   ],
   "source": [
    "# 例子\n",
    "import numpy as np\n",
    "import matplotlib.pyplot as plt\n",
    "def mandelbrot(h,w, maxit=20):\n",
    "    \"\"\"Returns an image of the Mandelbrot fractal of size (h,w).\"\"\"\n",
    "    y,x = np.ogrid[ -1.4:1.4:h*1j, -2:0.8:w*1j ]\n",
    "    c = x+y*1j\n",
    "    z = c\n",
    "    divtime = maxit + np.zeros(z.shape, dtype=int)\n",
    "\n",
    "    for i in range(maxit):\n",
    "        z = z**2 + c\n",
    "        diverge = z*np.conj(z) > 2**2            # who is diverging\n",
    "        div_now = diverge & (divtime==maxit)  # who is diverging now\n",
    "        divtime[div_now] = i                  # note when\n",
    "        z[diverge] = 2                        # avoid diverging too much\n",
    "        return divtime\n",
    "plt.imshow(mandelbrot(400,400))\n",
    "plt.show()"
   ]
  },
  {
   "cell_type": "markdown",
   "metadata": {},
   "source": [
    "第二种通过布尔来索引的方法更近似于整数索引；对数组的每个维度我们给一个一维布尔数组来选择我们想要的切片。"
   ]
  },
  {
   "cell_type": "code",
   "execution_count": 221,
   "metadata": {},
   "outputs": [
    {
     "name": "stdout",
     "output_type": "stream",
     "text": [
      "[[ 0  1  2  3]\n",
      " [ 4  5  6  7]\n",
      " [ 8  9 10 11]]\n",
      "a[b1,:]: [[ 4  5  6  7]\n",
      " [ 8  9 10 11]]\n",
      "a[b1]: [[ 4  5  6  7]\n",
      " [ 8  9 10 11]]\n",
      "a[:,b2]: [[ 0  2]\n",
      " [ 4  6]\n",
      " [ 8 10]]\n",
      "a[b1,b2]: [ 4 10]\n"
     ]
    }
   ],
   "source": [
    "a = np.arange(12).reshape(3, 4)\n",
    "b1 = np.array([False,True,True]) # first dim selection\n",
    "b2 = np.array([True,False,True,False])       # second dim selection\n",
    "print(a)\n",
    "print('a[b1,:]:',a[b1,:])\n",
    "print('a[b1]:',a[b1])\n",
    "print('a[:,b2]:',a[:,b2]) # selecting columns\n",
    "print('a[b1,b2]:',a[b1,b2])"
   ]
  },
  {
   "cell_type": "code",
   "execution_count": 27,
   "metadata": {},
   "outputs": [
    {
     "name": "stdout",
     "output_type": "stream",
     "text": [
      "[[ 2  2  4]\n",
      " [ 5  5  7]\n",
      " [ 8  8 10]\n",
      " [11 11 13]]\n"
     ]
    }
   ],
   "source": [
    "import numpy as np\n",
    "x = np.array([[1,2,3], [4,5,6], [7,8,9], [10, 11, 12]])\n",
    "v = np.array([1, 0, 1])\n",
    "y = x + v  # Add v to each row of x using broadcasting\n",
    "print(y)"
   ]
  },
  {
   "cell_type": "markdown",
   "metadata": {},
   "source": [
    "## `ix_()`函数\n",
    "`ix_`函数可以为了获得多元组的结果而用来结合不同向量。例如，如果你想要用所有向量a、b和c元素组成的三元组来计算`a+b*c`："
   ]
  },
  {
   "cell_type": "code",
   "execution_count": 227,
   "metadata": {},
   "outputs": [
    {
     "name": "stdout",
     "output_type": "stream",
     "text": [
      "ax: [[[2]]\n",
      "\n",
      " [[3]]\n",
      "\n",
      " [[4]]\n",
      "\n",
      " [[5]]]\n",
      "bx: [[[8]\n",
      "  [5]\n",
      "  [4]]]\n",
      "cx: [[[5 4 6 8 3]]]\n",
      "(4, 1, 1) (1, 3, 1) (1, 1, 5)\n",
      "result: [[[42 34 50 66 26]\n",
      "  [27 22 32 42 17]\n",
      "  [22 18 26 34 14]]\n",
      "\n",
      " [[43 35 51 67 27]\n",
      "  [28 23 33 43 18]\n",
      "  [23 19 27 35 15]]\n",
      "\n",
      " [[44 36 52 68 28]\n",
      "  [29 24 34 44 19]\n",
      "  [24 20 28 36 16]]\n",
      "\n",
      " [[45 37 53 69 29]\n",
      "  [30 25 35 45 20]\n",
      "  [25 21 29 37 17]]]\n",
      "17\n",
      "17\n"
     ]
    }
   ],
   "source": [
    "a = np.array([2,3,4,5])\n",
    "b = np.array([8,5,4])\n",
    "c = np.array([5,4,6,8,3])\n",
    "ax,bx,cx = np.ix_(a,b,c)\n",
    "print('ax:',ax)\n",
    "print('bx:',bx)\n",
    "print('cx:',cx)\n",
    "print(ax.shape, bx.shape, cx.shape)\n",
    "result = ax+bx*cx\n",
    "print('result:',result)\n",
    "print(result[3,2,4])\n",
    "print(a[3]+b[2]*c[4])"
   ]
  },
  {
   "cell_type": "code",
   "execution_count": 229,
   "metadata": {},
   "outputs": [
    {
     "data": {
      "text/plain": [
       "array([[[15, 14, 16, 18, 13],\n",
       "        [12, 11, 13, 15, 10],\n",
       "        [11, 10, 12, 14,  9]],\n",
       "\n",
       "       [[16, 15, 17, 19, 14],\n",
       "        [13, 12, 14, 16, 11],\n",
       "        [12, 11, 13, 15, 10]],\n",
       "\n",
       "       [[17, 16, 18, 20, 15],\n",
       "        [14, 13, 15, 17, 12],\n",
       "        [13, 12, 14, 16, 11]],\n",
       "\n",
       "       [[18, 17, 19, 21, 16],\n",
       "        [15, 14, 16, 18, 13],\n",
       "        [14, 13, 15, 17, 12]]])"
      ]
     },
     "execution_count": 229,
     "metadata": {},
     "output_type": "execute_result"
    }
   ],
   "source": [
    "# 你也可以实行如下简化：\n",
    "def ufunc_reduce(ufct, *vectors):\n",
    "    vs = ix_(*vectors)\n",
    "    r = ufct.identity\n",
    "    for v in vs:\n",
    "        r = ufct(r,v)\n",
    "    return r\n",
    "# 然后这样使用它：\n",
    "ufunc_reduce(add,a,b,c)\n",
    "# 这个reduce与ufunc.reduce(比如说add.reduce)相比的优势在于它利用了广播法则，避免了创建一个输出大小乘以向量个数的参数数组。"
   ]
  },
  {
   "cell_type": "markdown",
   "metadata": {},
   "source": [
    "### 用字符串索引\n",
    "See Structured arrays."
   ]
  },
  {
   "cell_type": "markdown",
   "metadata": {},
   "source": [
    "# 线性代数\n",
    "## 简单数组运算\n",
    "参考numpy文件夹中的linalg.py获得更多信息"
   ]
  },
  {
   "cell_type": "code",
   "execution_count": 235,
   "metadata": {},
   "outputs": [
    {
     "name": "stdout",
     "output_type": "stream",
     "text": [
      "[[ 1.  2.]\n",
      " [ 3.  4.]]\n",
      "[[ 1.  3.]\n",
      " [ 2.  4.]]\n",
      "[[-2.   1. ]\n",
      " [ 1.5 -0.5]]\n",
      "[[ 1.  0.]\n",
      " [ 0.  1.]]\n",
      "[[-1.  0.]\n",
      " [ 0. -1.]]\n",
      "2.0\n"
     ]
    }
   ],
   "source": [
    "import numpy as np\n",
    "a = np.array([[1.0, 2.0], [3.0, 4.0]])\n",
    "print(a)\n",
    "print(a.T)\n",
    "print(np.linalg.inv(a))\n",
    "u = np.eye(2) # unit 2x2 matrix; \"eye\" represents \"I\"\n",
    "print(u)\n",
    "j = np.array([[0.0, -1.0], [1.0, 0.0]])\n",
    "print(np.dot (j, j)) # matrix product\n",
    "print(np.trace(u))\n",
    "y = np.array([[5.], [7.]])\n",
    "print(np.linalg.solve(a, y))\n",
    "print(np.linalg.eig(j))"
   ]
  },
  {
   "cell_type": "markdown",
   "metadata": {},
   "source": [
    "## 矩阵类\n",
    "这是一个关于矩阵类的简短介绍。"
   ]
  },
  {
   "cell_type": "code",
   "execution_count": 246,
   "metadata": {},
   "outputs": [
    {
     "name": "stdout",
     "output_type": "stream",
     "text": [
      "[[ 1.  2.]\n",
      " [ 3.  4.]]\n",
      "<class 'numpy.matrixlib.defmatrix.matrix'>\n",
      "[[ 1.  3.]\n",
      " [ 2.  4.]]\n",
      "[[ 5.]\n",
      " [ 7.]]\n",
      "[[ 19.]\n",
      " [ 43.]]\n",
      "[[-2.   1. ]\n",
      " [ 1.5 -0.5]]\n"
     ]
    }
   ],
   "source": [
    "A = np.matrix('1.0 2.0;3.0 4.0')\n",
    "print(A)\n",
    "print(type(A))\n",
    "print(A.T) # transpose\n",
    "X = np.matrix('5.0 7.0')\n",
    "Y = X.T\n",
    "print(Y)\n",
    "print(A*Y) # matrix multiplication\n",
    "print(A.I) # inverse"
   ]
  },
  {
   "cell_type": "markdown",
   "metadata": {},
   "source": [
    "### 索引：比较矩阵和二维数组\n",
    "注意NumPy中数组和矩阵有些重要的区别。NumPy提供了两个基本的对象：一个N维数组对象和一个通用函数对象。其它对象都是建构在它们之上的。特别的，矩阵是继承自NumPy数组对象的二维数组对象。对数组和矩阵，索引都必须包含合适的一个或多个这些组合：整数标量、省略号(ellipses)、整数列表;布尔值，整数或布尔值构成的元组，和一个一维整数或布尔值数组。矩阵可以被用作矩阵的索引，但是通常需要数组、列表或者其它形式来完成这个任务。\n",
    "\n",
    "像平常在Python中一样，索引是从0开始的。传统上我们用矩形的行和列表示一个二维数组或矩阵，其中沿着0轴的方向被穿过的称作行，沿着1轴的方向被穿过的是列。\n",
    "\n",
    "让我们创建数组和矩阵用来切片："
   ]
  },
  {
   "cell_type": "code",
   "execution_count": 248,
   "metadata": {},
   "outputs": [
    {
     "name": "stdout",
     "output_type": "stream",
     "text": [
      "[ 0  1  2  3  4  5  6  7  8  9 10 11]\n",
      "[[ 0  1  2  3]\n",
      " [ 4  5  6  7]\n",
      " [ 8  9 10 11]]\n",
      "[[ 0  1  2  3]\n",
      " [ 4  5  6  7]\n",
      " [ 8  9 10 11]]\n",
      "<class 'numpy.ndarray'> <class 'numpy.matrixlib.defmatrix.matrix'>\n"
     ]
    }
   ],
   "source": [
    "A=np.arange(12)\n",
    "print(A)\n",
    "A.shape=(3, 4)\n",
    "print(A)\n",
    "M = np.mat(A.copy())\n",
    "print(M)\n",
    "print(type(A), type(M))"
   ]
  },
  {
   "cell_type": "markdown",
   "metadata": {},
   "source": [
    "现在，让我们简单的切几片。基本的切片使用切片对象或整数。例如，`A[:]`和`M[:]`的求值将表现得和Python索引很相似。然而要注意很重要的一点就是NumPy切片数组不创建数据的副本;切片提供统一数据的视图。"
   ]
  },
  {
   "cell_type": "code",
   "execution_count": 254,
   "metadata": {},
   "outputs": [
    {
     "name": "stdout",
     "output_type": "stream",
     "text": [
      "[[ 0  1  2  3]\n",
      " [ 4  5  6  7]\n",
      " [ 8  9 10 11]] (3, 4)\n",
      "[[ 0  1  2  3]\n",
      " [ 4  5  6  7]\n",
      " [ 8  9 10 11]] (3, 4)\n",
      "[1 5 9]\n",
      "(3,)\n",
      "[[1]\n",
      " [5]\n",
      " [9]]\n",
      "(3, 1)\n"
     ]
    }
   ],
   "source": [
    "print(A[:],A[:].shape)\n",
    "print(M[:],M[:].shape)\n",
    "# 现在有些和Python索引不同的了：你可以同时使用 逗号 分割索引来沿着多个轴索引。\n",
    "print(A[:,1]); print(A[:,1].shape)\n",
    "print(M[:,1]); print(M[:,1].shape)"
   ]
  },
  {
   "cell_type": "markdown",
   "metadata": {},
   "source": [
    " 注意最后两个结果的不同。**对二维数组使用一个冒号产生一个一维数组，然而矩阵产生了一个二维矩阵**。例如，一个`M[2,:]`切片产生了一个形状为(1,4)的矩阵，相比之下，一个数组的切片总是产生一个最低可能维度11的数组。例如，如果C是一个三维数组，`C[...,1]`产生一个二维的数组而`C[1,:,1]`产生一个一维数组。从这时开始，如果相应的矩阵切片结果是相同的话，我们将只展示数组切片的结果。\n",
    " \n",
    " 假如我们想要一个数组的第一列和第三列，一种方法是使用列表切片："
   ]
  },
  {
   "cell_type": "code",
   "execution_count": 261,
   "metadata": {},
   "outputs": [
    {
     "name": "stdout",
     "output_type": "stream",
     "text": [
      "[[ 1  3]\n",
      " [ 5  7]\n",
      " [ 9 11]]\n",
      "[[ 1  3]\n",
      " [ 5  7]\n",
      " [ 9 11]]\n",
      "[[ 5  7]\n",
      " [ 9 11]]\n",
      "[[ 5  7]\n",
      " [ 9 11]]\n",
      "[False False  True  True]\n",
      "[[ 2  3]\n",
      " [ 6  7]\n",
      " [10 11]]\n"
     ]
    }
   ],
   "source": [
    "print(A[:,[1,3]])\n",
    "#稍微复杂点的方法是使用take()方法(method):\n",
    "print(A[:,].take([1,3],axis=1))\n",
    "# 如果我们想跳过第一行，我们可以这样：\n",
    "print(A[1:,].take([1,3],axis=1))\n",
    "# 或者我们仅仅使用A[1:,[1,3]]。还有一种方法是通过矩阵向量积(叉积)。\n",
    "print(A[ix_((1,2),(1,3))])\n",
    "# 现在让我们做些更复杂的。比如说我们想要保留第一行大于1的列。一种方法是创建布尔索引：\n",
    "print(A[0,:]>1)\n",
    "print(A[:,A[0,:]>1])"
   ]
  },
  {
   "cell_type": "code",
   "execution_count": 274,
   "metadata": {},
   "outputs": [
    {
     "name": "stdout",
     "output_type": "stream",
     "text": [
      "[[False False  True  True]]\n",
      "[]\n",
      "[[ 2  3]\n",
      " [ 6  7]\n",
      " [10 11]]\n",
      "[ 6 11]\n",
      "[[ 6 11]]\n",
      "[[ 6  7]\n",
      " [10 11]]\n",
      "[[ 6  7]\n",
      " [10 11]]\n"
     ]
    }
   ],
   "source": [
    "# 就是我们想要的！但是索引矩阵没这么方便。\n",
    "M = np.mat(A.copy())\n",
    "print(M[0,:]>1)\n",
    "# print(M[:,M[0,:]>1])\n",
    "# 这个过程的问题是用“矩阵切片”来切片产生一个矩阵12，但是矩阵有个方便的A属性，它的值是数组呈现的。所以我们仅仅做以下替代：\n",
    "print(M[:,M.A[0,1]>1])\n",
    "print(M[:,M.A[0,:]>1])\n",
    "# 如果我们想要在矩阵两个方向有条件地切片，我们必须稍微调整策略，代之以：\n",
    "print(A[A[:,0]>2,A[0,:]>1])\n",
    "print(M[M.A[:,0]>2,M.A[0,:]>1])\n",
    "# 我们需要使用向量积ix_:\n",
    "print(A[ix_(A[:,0]>2,A[0,:]>1)])\n",
    "print(M[ix_(M.A[:,0]>2,M.A[0,:]>1)])"
   ]
  },
  {
   "cell_type": "markdown",
   "metadata": {},
   "source": [
    "# 技巧和提示\n",
    "## “自动”改变形状\n",
    "更改数组的维度，你可以省略一个尺寸，它将被自动推导出来。"
   ]
  },
  {
   "cell_type": "code",
   "execution_count": 276,
   "metadata": {},
   "outputs": [
    {
     "name": "stdout",
     "output_type": "stream",
     "text": [
      "(2, 5, 3)\n",
      "[[[ 0  1  2]\n",
      "  [ 3  4  5]\n",
      "  [ 6  7  8]\n",
      "  [ 9 10 11]\n",
      "  [12 13 14]]\n",
      "\n",
      " [[15 16 17]\n",
      "  [18 19 20]\n",
      "  [21 22 23]\n",
      "  [24 25 26]\n",
      "  [27 28 29]]]\n"
     ]
    }
   ],
   "source": [
    "a = np.arange(30)\n",
    "a.shape = 2,-1,3  # -1 means \"whatever is needed\"\n",
    "print(a.shape)\n",
    "print(a)"
   ]
  },
  {
   "cell_type": "markdown",
   "metadata": {},
   "source": [
    "## 向量组合(stacking)\n",
    "我们如何用两个相同尺寸的行向量列表构建一个二维数组？在MATLAB中这非常简单：如果x和y是两个相同长度的向量，你仅仅需要做`m=[x;y]`。在NumPy中这个过程通过函数`column_stack、dstack、hstack和vstack来`完成，取决于你想要在那个维度上组合。例如："
   ]
  },
  {
   "cell_type": "code",
   "execution_count": 280,
   "metadata": {},
   "outputs": [
    {
     "name": "stdout",
     "output_type": "stream",
     "text": [
      "[[0 2 4 6 8]\n",
      " [0 1 2 3 4]]\n",
      "[0 2 4 6 8 0 1 2 3 4]\n"
     ]
    }
   ],
   "source": [
    "x=np.arange(0, 10, 2)\n",
    "y = np.arange(5)\n",
    "m = vstack([x,y])\n",
    "print(m)\n",
    "xy = hstack([x,y])\n",
    "print(xy)"
   ]
  },
  {
   "cell_type": "markdown",
   "metadata": {},
   "source": [
    "## 直方图(histogram)\n",
    "NumPy中histogram函数应用到一个数组返回一对变量：直方图数组和箱式向量。注意：`matplotlib`也有一个用来建立直方图的函数(叫作hist,正如matlab中一样)与NumPy中的不同。主要的差别是pylab.hist自动绘制直方图，而`numpy.histogram`仅仅产生数据。"
   ]
  },
  {
   "cell_type": "code",
   "execution_count": 28,
   "metadata": {},
   "outputs": [
    {
     "data": {
      "text/plain": [
       "<matplotlib.figure.Figure at 0x7fae3cc6d128>"
      ]
     },
     "metadata": {},
     "output_type": "display_data"
    },
    {
     "data": {
      "text/plain": [
       "<matplotlib.figure.Figure at 0x7fae3cc6d710>"
      ]
     },
     "metadata": {},
     "output_type": "display_data"
    }
   ],
   "source": [
    "import numpy\n",
    "import pylab\n",
    "# Build a vector of 10000 normal deviates with variance 0.5^2 and mean 2\n",
    "mu, sigma = 2, 0.5\n",
    "v = numpy.random.normal(mu,sigma,10000)\n",
    "# Plot a normalized histogram with 50 bins\n",
    "pylab.hist(v, bins=50, normed=1)       # matplotlib version (plot)\n",
    "pylab.show()\n",
    "# Compute the histogram with numpy and then plot it\n",
    "(n, bins) = numpy.histogram(v, bins=50, normed=True)  # NumPy version (no plot)\n",
    "pylab.plot(.5*(bins[1:]+bins[:-1]), n)\n",
    "pylab.show()"
   ]
  },
  {
   "cell_type": "code",
   "execution_count": null,
   "metadata": {},
   "outputs": [],
   "source": []
  }
 ],
 "metadata": {
  "kernelspec": {
   "display_name": "Python 3",
   "language": "python",
   "name": "python3"
  },
  "language_info": {
   "codemirror_mode": {
    "name": "ipython",
    "version": 3
   },
   "file_extension": ".py",
   "mimetype": "text/x-python",
   "name": "python",
   "nbconvert_exporter": "python",
   "pygments_lexer": "ipython3",
   "version": "3.6.4"
  }
 },
 "nbformat": 4,
 "nbformat_minor": 2
}
